{
 "cells": [
  {
   "cell_type": "markdown",
   "metadata": {},
   "source": [
    "# DrivenData Pump it Up Competition"
   ]
  },
  {
   "cell_type": "code",
   "execution_count": 138,
   "metadata": {},
   "outputs": [],
   "source": [
    "import numpy as np\n",
    "import pandas as pd\n",
    "import seaborn as sns\n",
    "import functions as fct\n",
    "from vecstack import stacking\n",
    "import matplotlib.pyplot as plt\n",
    "from sklearn.cluster import KMeans\n",
    "from scipy.special import boxcox1p\n",
    "from sklearn.decomposition import PCA\n",
    "from geopy.distance import great_circle\n",
    "from pandas.api.types import CategoricalDtype\n",
    "from sklearn.multiclass import OneVsRestClassifier\n",
    "from sklearn.linear_model import LogisticRegression\n",
    "from sklearn.pipeline import make_pipeline, Pipeline\n",
    "from sklearn.metrics import accuracy_score as metric_scorer\n",
    "from scipy.stats import skew, boxcox_normmax, chi2_contingency\n",
    "from sklearn.feature_selection import RFE, SelectFromModel, RFECV\n",
    "from sklearn.metrics import roc_auc_score, roc_curve, classification_report\n",
    "from sklearn.ensemble import GradientBoostingClassifier, RandomForestClassifier\n",
    "from sklearn.model_selection import train_test_split, KFold, cross_val_score, GridSearchCV\n",
    "from sklearn.preprocessing import StandardScaler, PolynomialFeatures, KBinsDiscretizer, PowerTransformer, LabelEncoder\n",
    "\n",
    "import warnings\n",
    "warnings.filterwarnings('ignore')"
   ]
  },
  {
   "cell_type": "markdown",
   "metadata": {},
   "source": [
    "## Setting Key Values"
   ]
  },
  {
   "cell_type": "markdown",
   "metadata": {},
   "source": [
    "TOTSET8 is a cleaned version of the whole dataset. Funder and installer have been cleaned, date-components have been extracted and precipitaion "
   ]
  },
  {
   "cell_type": "code",
   "execution_count": 139,
   "metadata": {},
   "outputs": [],
   "source": [
    "SEED = 1\n",
    "# Train X\n",
    "DATA_PATH = 'TOTSET8.csv'\n",
    "# Submission Format\n",
    "DATA_PATH4 = 'SubmissionFormat.csv'\n",
    "TARGET_VARIABLE = 'status_group'\n",
    "SPLITS = 5\n",
    "ESTIMATORS = 50\n",
    "MAX_ITER = 500\n",
    "#For metric, import the required library as metric_scorer\n",
    "METRIC = 'accuracy'"
   ]
  },
  {
   "cell_type": "markdown",
   "metadata": {},
   "source": [
    "## Data Reading\n",
    "Here we read the data, print its first rows and describe its contents"
   ]
  },
  {
   "cell_type": "code",
   "execution_count": 140,
   "metadata": {},
   "outputs": [
    {
     "data": {
      "text/html": [
       "<div>\n",
       "<style scoped>\n",
       "    .dataframe tbody tr th:only-of-type {\n",
       "        vertical-align: middle;\n",
       "    }\n",
       "\n",
       "    .dataframe tbody tr th {\n",
       "        vertical-align: top;\n",
       "    }\n",
       "\n",
       "    .dataframe thead th {\n",
       "        text-align: right;\n",
       "    }\n",
       "</style>\n",
       "<table border=\"1\" class=\"dataframe\">\n",
       "  <thead>\n",
       "    <tr style=\"text-align: right;\">\n",
       "      <th></th>\n",
       "      <th>id</th>\n",
       "      <th>funder</th>\n",
       "      <th>funder_cleaned</th>\n",
       "      <th>installer</th>\n",
       "      <th>installer_cleaned</th>\n",
       "      <th>4sameifone</th>\n",
       "      <th>3sameifone</th>\n",
       "      <th>2sameifone</th>\n",
       "      <th>1sameifone</th>\n",
       "      <th>amount_tsh</th>\n",
       "      <th>...</th>\n",
       "      <th>quantity</th>\n",
       "      <th>quantity_group</th>\n",
       "      <th>source</th>\n",
       "      <th>source_type</th>\n",
       "      <th>source_class</th>\n",
       "      <th>waterpoint_type</th>\n",
       "      <th>waterpoint_type_group</th>\n",
       "      <th>status_group</th>\n",
       "      <th>pr</th>\n",
       "      <th>tas</th>\n",
       "    </tr>\n",
       "  </thead>\n",
       "  <tbody>\n",
       "    <tr>\n",
       "      <th>0</th>\n",
       "      <td>69572</td>\n",
       "      <td>Roman</td>\n",
       "      <td>roman church</td>\n",
       "      <td>Roman</td>\n",
       "      <td>roman church</td>\n",
       "      <td>True</td>\n",
       "      <td>True</td>\n",
       "      <td>True</td>\n",
       "      <td>True</td>\n",
       "      <td>6000.0</td>\n",
       "      <td>...</td>\n",
       "      <td>enough</td>\n",
       "      <td>enough</td>\n",
       "      <td>spring</td>\n",
       "      <td>spring</td>\n",
       "      <td>groundwater</td>\n",
       "      <td>communal standpipe</td>\n",
       "      <td>communal standpipe</td>\n",
       "      <td>functional</td>\n",
       "      <td>101.776</td>\n",
       "      <td>23.4426</td>\n",
       "    </tr>\n",
       "    <tr>\n",
       "      <th>1</th>\n",
       "      <td>8776</td>\n",
       "      <td>Grumeti</td>\n",
       "      <td>grumet</td>\n",
       "      <td>GRUMETI</td>\n",
       "      <td>grumet</td>\n",
       "      <td>True</td>\n",
       "      <td>True</td>\n",
       "      <td>True</td>\n",
       "      <td>False</td>\n",
       "      <td>0.0</td>\n",
       "      <td>...</td>\n",
       "      <td>insufficient</td>\n",
       "      <td>insufficient</td>\n",
       "      <td>rainwater harvesting</td>\n",
       "      <td>rainwater harvesting</td>\n",
       "      <td>surface</td>\n",
       "      <td>communal standpipe</td>\n",
       "      <td>communal standpipe</td>\n",
       "      <td>functional</td>\n",
       "      <td>157.643</td>\n",
       "      <td>23.7156</td>\n",
       "    </tr>\n",
       "    <tr>\n",
       "      <th>2</th>\n",
       "      <td>34310</td>\n",
       "      <td>Lottery Club</td>\n",
       "      <td>lottery club</td>\n",
       "      <td>World vision</td>\n",
       "      <td>world vision</td>\n",
       "      <td>False</td>\n",
       "      <td>False</td>\n",
       "      <td>False</td>\n",
       "      <td>False</td>\n",
       "      <td>25.0</td>\n",
       "      <td>...</td>\n",
       "      <td>enough</td>\n",
       "      <td>enough</td>\n",
       "      <td>dam</td>\n",
       "      <td>dam</td>\n",
       "      <td>surface</td>\n",
       "      <td>communal standpipe multiple</td>\n",
       "      <td>communal standpipe</td>\n",
       "      <td>functional</td>\n",
       "      <td>157.643</td>\n",
       "      <td>23.7156</td>\n",
       "    </tr>\n",
       "    <tr>\n",
       "      <th>3</th>\n",
       "      <td>67743</td>\n",
       "      <td>Unicef</td>\n",
       "      <td>unicef</td>\n",
       "      <td>UNICEF</td>\n",
       "      <td>unicef</td>\n",
       "      <td>True</td>\n",
       "      <td>True</td>\n",
       "      <td>True</td>\n",
       "      <td>False</td>\n",
       "      <td>0.0</td>\n",
       "      <td>...</td>\n",
       "      <td>dry</td>\n",
       "      <td>dry</td>\n",
       "      <td>machine dbh</td>\n",
       "      <td>borehole</td>\n",
       "      <td>groundwater</td>\n",
       "      <td>communal standpipe multiple</td>\n",
       "      <td>communal standpipe</td>\n",
       "      <td>non functional</td>\n",
       "      <td>157.643</td>\n",
       "      <td>23.7156</td>\n",
       "    </tr>\n",
       "    <tr>\n",
       "      <th>4</th>\n",
       "      <td>19728</td>\n",
       "      <td>Action In A</td>\n",
       "      <td>action in a</td>\n",
       "      <td>Artisan</td>\n",
       "      <td>atisan</td>\n",
       "      <td>False</td>\n",
       "      <td>False</td>\n",
       "      <td>False</td>\n",
       "      <td>False</td>\n",
       "      <td>0.0</td>\n",
       "      <td>...</td>\n",
       "      <td>seasonal</td>\n",
       "      <td>seasonal</td>\n",
       "      <td>rainwater harvesting</td>\n",
       "      <td>rainwater harvesting</td>\n",
       "      <td>surface</td>\n",
       "      <td>communal standpipe</td>\n",
       "      <td>communal standpipe</td>\n",
       "      <td>functional</td>\n",
       "      <td>101.776</td>\n",
       "      <td>23.4426</td>\n",
       "    </tr>\n",
       "  </tbody>\n",
       "</table>\n",
       "<p>5 rows × 53 columns</p>\n",
       "</div>"
      ],
      "text/plain": [
       "      id        funder funder_cleaned     installer installer_cleaned  \\\n",
       "0  69572         Roman   roman church         Roman      roman church   \n",
       "1   8776       Grumeti         grumet       GRUMETI            grumet   \n",
       "2  34310  Lottery Club   lottery club  World vision      world vision   \n",
       "3  67743        Unicef         unicef        UNICEF            unicef   \n",
       "4  19728   Action In A    action in a       Artisan            atisan   \n",
       "\n",
       "   4sameifone  3sameifone  2sameifone  1sameifone  amount_tsh   ...     \\\n",
       "0        True        True        True        True      6000.0   ...      \n",
       "1        True        True        True       False         0.0   ...      \n",
       "2       False       False       False       False        25.0   ...      \n",
       "3        True        True        True       False         0.0   ...      \n",
       "4       False       False       False       False         0.0   ...      \n",
       "\n",
       "       quantity quantity_group                source           source_type  \\\n",
       "0        enough         enough                spring                spring   \n",
       "1  insufficient   insufficient  rainwater harvesting  rainwater harvesting   \n",
       "2        enough         enough                   dam                   dam   \n",
       "3           dry            dry           machine dbh              borehole   \n",
       "4      seasonal       seasonal  rainwater harvesting  rainwater harvesting   \n",
       "\n",
       "   source_class              waterpoint_type  waterpoint_type_group  \\\n",
       "0   groundwater           communal standpipe     communal standpipe   \n",
       "1       surface           communal standpipe     communal standpipe   \n",
       "2       surface  communal standpipe multiple     communal standpipe   \n",
       "3   groundwater  communal standpipe multiple     communal standpipe   \n",
       "4       surface           communal standpipe     communal standpipe   \n",
       "\n",
       "     status_group       pr      tas  \n",
       "0      functional  101.776  23.4426  \n",
       "1      functional  157.643  23.7156  \n",
       "2      functional  157.643  23.7156  \n",
       "3  non functional  157.643  23.7156  \n",
       "4      functional  101.776  23.4426  \n",
       "\n",
       "[5 rows x 53 columns]"
      ]
     },
     "execution_count": 140,
     "metadata": {},
     "output_type": "execute_result"
    }
   ],
   "source": [
    "def read_data(input_path):\n",
    "    return pd.read_csv(input_path, parse_dates=[1])\n",
    "\n",
    "tot_data = read_data(DATA_PATH)\n",
    "submission = read_data(DATA_PATH4)\n",
    "\n",
    "tot_data.head()"
   ]
  },
  {
   "cell_type": "markdown",
   "metadata": {},
   "source": [
    "We review the data types for each column"
   ]
  },
  {
   "cell_type": "code",
   "execution_count": 141,
   "metadata": {},
   "outputs": [
    {
     "data": {
      "text/plain": [
       "id                         int64\n",
       "funder                    object\n",
       "funder_cleaned            object\n",
       "installer                 object\n",
       "installer_cleaned         object\n",
       "4sameifone                  bool\n",
       "3sameifone                  bool\n",
       "2sameifone                  bool\n",
       "1sameifone                  bool\n",
       "amount_tsh               float64\n",
       "date_recorded             object\n",
       "date                      object\n",
       "Year                       int64\n",
       "MY                        object\n",
       "Month                      int64\n",
       "gps_height                 int64\n",
       "longitude                float64\n",
       "latitude                 float64\n",
       "wpt_name                  object\n",
       "num_private                int64\n",
       "basin                     object\n",
       "subvillage                object\n",
       "region                    object\n",
       "region_code                int64\n",
       "district_code              int64\n",
       "lga                       object\n",
       "ward                      object\n",
       "population                 int64\n",
       "public_meeting            object\n",
       "recorded_by               object\n",
       "scheme_management         object\n",
       "scheme_name               object\n",
       "permit                    object\n",
       "construction_year          int64\n",
       "extraction_type           object\n",
       "extraction_type_group     object\n",
       "extraction_type_class     object\n",
       "management                object\n",
       "management_group          object\n",
       "payment                   object\n",
       "payment_type              object\n",
       "water_quality             object\n",
       "quality_group             object\n",
       "quantity                  object\n",
       "quantity_group            object\n",
       "source                    object\n",
       "source_type               object\n",
       "source_class              object\n",
       "waterpoint_type           object\n",
       "waterpoint_type_group     object\n",
       "status_group              object\n",
       "pr                       float64\n",
       "tas                      float64\n",
       "dtype: object"
      ]
     },
     "execution_count": 141,
     "metadata": {},
     "output_type": "execute_result"
    }
   ],
   "source": [
    "tot_data.dtypes"
   ]
  },
  {
   "cell_type": "markdown",
   "metadata": {},
   "source": [
    "We check if there is any missing data"
   ]
  },
  {
   "cell_type": "code",
   "execution_count": 142,
   "metadata": {},
   "outputs": [
    {
     "data": {
      "text/html": [
       "<div>\n",
       "<style scoped>\n",
       "    .dataframe tbody tr th:only-of-type {\n",
       "        vertical-align: middle;\n",
       "    }\n",
       "\n",
       "    .dataframe tbody tr th {\n",
       "        vertical-align: top;\n",
       "    }\n",
       "\n",
       "    .dataframe thead th {\n",
       "        text-align: right;\n",
       "    }\n",
       "</style>\n",
       "<table border=\"1\" class=\"dataframe\">\n",
       "  <thead>\n",
       "    <tr style=\"text-align: right;\">\n",
       "      <th></th>\n",
       "      <th>Total</th>\n",
       "      <th>Percent</th>\n",
       "    </tr>\n",
       "  </thead>\n",
       "  <tbody>\n",
       "    <tr>\n",
       "      <th>scheme_name</th>\n",
       "      <td>35258</td>\n",
       "      <td>0.474855</td>\n",
       "    </tr>\n",
       "    <tr>\n",
       "      <th>status_group</th>\n",
       "      <td>14850</td>\n",
       "      <td>0.200000</td>\n",
       "    </tr>\n",
       "    <tr>\n",
       "      <th>scheme_management</th>\n",
       "      <td>4846</td>\n",
       "      <td>0.065266</td>\n",
       "    </tr>\n",
       "    <tr>\n",
       "      <th>installer_cleaned</th>\n",
       "      <td>4535</td>\n",
       "      <td>0.061077</td>\n",
       "    </tr>\n",
       "    <tr>\n",
       "      <th>installer</th>\n",
       "      <td>4532</td>\n",
       "      <td>0.061037</td>\n",
       "    </tr>\n",
       "    <tr>\n",
       "      <th>funder_cleaned</th>\n",
       "      <td>4504</td>\n",
       "      <td>0.060660</td>\n",
       "    </tr>\n",
       "    <tr>\n",
       "      <th>public_meeting</th>\n",
       "      <td>4155</td>\n",
       "      <td>0.055960</td>\n",
       "    </tr>\n",
       "    <tr>\n",
       "      <th>permit</th>\n",
       "      <td>3793</td>\n",
       "      <td>0.051084</td>\n",
       "    </tr>\n",
       "    <tr>\n",
       "      <th>subvillage</th>\n",
       "      <td>470</td>\n",
       "      <td>0.006330</td>\n",
       "    </tr>\n",
       "    <tr>\n",
       "      <th>tas</th>\n",
       "      <td>0</td>\n",
       "      <td>0.000000</td>\n",
       "    </tr>\n",
       "  </tbody>\n",
       "</table>\n",
       "</div>"
      ],
      "text/plain": [
       "                   Total   Percent\n",
       "scheme_name        35258  0.474855\n",
       "status_group       14850  0.200000\n",
       "scheme_management   4846  0.065266\n",
       "installer_cleaned   4535  0.061077\n",
       "installer           4532  0.061037\n",
       "funder_cleaned      4504  0.060660\n",
       "public_meeting      4155  0.055960\n",
       "permit              3793  0.051084\n",
       "subvillage           470  0.006330\n",
       "tas                    0  0.000000"
      ]
     },
     "execution_count": 142,
     "metadata": {},
     "output_type": "execute_result"
    }
   ],
   "source": [
    "def missing_data(df):\n",
    "    total = df.isnull().sum().sort_values(ascending=False)\n",
    "    percent = (df.isnull().sum()/df.isnull().count()).sort_values(ascending=False)\n",
    "    return pd.concat([total, percent], axis=1, keys=['Total', 'Percent'])\n",
    "\n",
    "missing_data(tot_data).head(10)"
   ]
  },
  {
   "cell_type": "markdown",
   "metadata": {},
   "source": [
    "We drop certainly unnecessary columns"
   ]
  },
  {
   "cell_type": "code",
   "execution_count": 143,
   "metadata": {},
   "outputs": [],
   "source": [
    "def drop_columns(df, cols):\n",
    "    df.drop(df[cols], axis=1, inplace = True)\n",
    "    return df\n",
    "\n",
    "tot_data = drop_columns(tot_data, ['recorded_by', '4sameifone', '3sameifone', '2sameifone', '1sameifone', 'date_recorded'])\n",
    "submission = drop_columns(submission, ['status_group'])"
   ]
  },
  {
   "cell_type": "markdown",
   "metadata": {},
   "source": [
    "## Data Preparation"
   ]
  },
  {
   "cell_type": "markdown",
   "metadata": {},
   "source": [
    "### Converting Columns to their true type\n",
    "Now fixing the data types of object columns that are actually categorical and of dates"
   ]
  },
  {
   "cell_type": "code",
   "execution_count": 144,
   "metadata": {},
   "outputs": [],
   "source": [
    "def categoricals(df, exclude = None):\n",
    "    categorical = df.select_dtypes(include=['category', object])\n",
    "    excluded = [TARGET_VARIABLE]\n",
    "    if exclude:\n",
    "        for i in exclude:\n",
    "            excluded.append(i)\n",
    "    cols = [col for col in categorical.columns if col not in excluded]\n",
    "    return df[cols]"
   ]
  },
  {
   "cell_type": "code",
   "execution_count": 145,
   "metadata": {},
   "outputs": [
    {
     "data": {
      "text/plain": [
       "id                          int64\n",
       "funder                   category\n",
       "funder_cleaned           category\n",
       "installer                category\n",
       "installer_cleaned        category\n",
       "amount_tsh                float64\n",
       "date                     category\n",
       "Year                        int64\n",
       "MY                       category\n",
       "Month                       int64\n",
       "gps_height                  int64\n",
       "longitude                 float64\n",
       "latitude                  float64\n",
       "wpt_name                 category\n",
       "num_private                 int64\n",
       "basin                    category\n",
       "subvillage               category\n",
       "region                   category\n",
       "region_code                 int64\n",
       "district_code               int64\n",
       "lga                      category\n",
       "ward                     category\n",
       "population                  int64\n",
       "public_meeting           category\n",
       "scheme_management        category\n",
       "scheme_name              category\n",
       "permit                   category\n",
       "construction_year           int64\n",
       "extraction_type          category\n",
       "extraction_type_group    category\n",
       "extraction_type_class    category\n",
       "management               category\n",
       "management_group         category\n",
       "payment                  category\n",
       "payment_type             category\n",
       "water_quality            category\n",
       "quality_group            category\n",
       "quantity                 category\n",
       "quantity_group           category\n",
       "source                   category\n",
       "source_type              category\n",
       "source_class             category\n",
       "waterpoint_type          category\n",
       "waterpoint_type_group    category\n",
       "status_group               object\n",
       "pr                        float64\n",
       "tas                       float64\n",
       "dtype: object"
      ]
     },
     "execution_count": 145,
     "metadata": {},
     "output_type": "execute_result"
    }
   ],
   "source": [
    "def convert_to_category(df, cols):\n",
    "    for i in cols:\n",
    "        df[i] = df[i].astype('category')\n",
    "    return df\n",
    "\n",
    "tot_data = convert_to_category(tot_data, categoricals(tot_data))\n",
    "\n",
    "tot_data.dtypes"
   ]
  },
  {
   "cell_type": "markdown",
   "metadata": {},
   "source": [
    "## Scale and fix skewness"
   ]
  },
  {
   "cell_type": "code",
   "execution_count": 146,
   "metadata": {},
   "outputs": [],
   "source": [
    "def numericals(df, exclude = None):\n",
    "    numerical = df.select_dtypes(include=[np.number])\n",
    "    excluded = [TARGET_VARIABLE]\n",
    "    if exclude:\n",
    "        for i in exclude:\n",
    "            excluded.append(i)\n",
    "    cols = [col for col in numerical.columns if col not in excluded]\n",
    "    return df[cols]"
   ]
  },
  {
   "cell_type": "markdown",
   "metadata": {},
   "source": [
    "Fill zeros in construction year with rounded mean and create dummy indicating previous zeros"
   ]
  },
  {
   "cell_type": "code",
   "execution_count": 147,
   "metadata": {},
   "outputs": [],
   "source": [
    "tot_data['missing_construction_year'] = (tot_data['construction_year']==0)\n",
    "tot_data[\"construction_year\"][tot_data['construction_year'] == 0] = round(tot_data['construction_year'][tot_data['construction_year'] != 0].mean())"
   ]
  },
  {
   "cell_type": "code",
   "execution_count": 148,
   "metadata": {},
   "outputs": [
    {
     "data": {
      "text/plain": [
       "0    1999\n",
       "1    2010\n",
       "2    2009\n",
       "3    1986\n",
       "4    1997\n",
       "Name: construction_year, dtype: int64"
      ]
     },
     "execution_count": 148,
     "metadata": {},
     "output_type": "execute_result"
    }
   ],
   "source": [
    "tot_data.construction_year.head()"
   ]
  },
  {
   "cell_type": "markdown",
   "metadata": {},
   "source": [
    "Standardize the numerical variables"
   ]
  },
  {
   "cell_type": "code",
   "execution_count": 149,
   "metadata": {},
   "outputs": [
    {
     "data": {
      "text/html": [
       "<div>\n",
       "<style scoped>\n",
       "    .dataframe tbody tr th:only-of-type {\n",
       "        vertical-align: middle;\n",
       "    }\n",
       "\n",
       "    .dataframe tbody tr th {\n",
       "        vertical-align: top;\n",
       "    }\n",
       "\n",
       "    .dataframe thead th {\n",
       "        text-align: right;\n",
       "    }\n",
       "</style>\n",
       "<table border=\"1\" class=\"dataframe\">\n",
       "  <thead>\n",
       "    <tr style=\"text-align: right;\">\n",
       "      <th></th>\n",
       "      <th>id</th>\n",
       "      <th>funder</th>\n",
       "      <th>funder_cleaned</th>\n",
       "      <th>installer</th>\n",
       "      <th>installer_cleaned</th>\n",
       "      <th>amount_tsh</th>\n",
       "      <th>date</th>\n",
       "      <th>Year</th>\n",
       "      <th>MY</th>\n",
       "      <th>Month</th>\n",
       "      <th>...</th>\n",
       "      <th>quantity_group</th>\n",
       "      <th>source</th>\n",
       "      <th>source_type</th>\n",
       "      <th>source_class</th>\n",
       "      <th>waterpoint_type</th>\n",
       "      <th>waterpoint_type_group</th>\n",
       "      <th>status_group</th>\n",
       "      <th>pr</th>\n",
       "      <th>tas</th>\n",
       "      <th>missing_construction_year</th>\n",
       "    </tr>\n",
       "  </thead>\n",
       "  <tbody>\n",
       "    <tr>\n",
       "      <th>0</th>\n",
       "      <td>69572</td>\n",
       "      <td>Roman</td>\n",
       "      <td>roman church</td>\n",
       "      <td>Roman</td>\n",
       "      <td>roman church</td>\n",
       "      <td>1.743682</td>\n",
       "      <td>2011-01-14T00:03:00.000Z</td>\n",
       "      <td>-0.963404</td>\n",
       "      <td>1/2011</td>\n",
       "      <td>0.0</td>\n",
       "      <td>...</td>\n",
       "      <td>enough</td>\n",
       "      <td>spring</td>\n",
       "      <td>spring</td>\n",
       "      <td>groundwater</td>\n",
       "      <td>communal standpipe</td>\n",
       "      <td>communal standpipe</td>\n",
       "      <td>functional</td>\n",
       "      <td>-0.832619</td>\n",
       "      <td>-0.471799</td>\n",
       "      <td>False</td>\n",
       "    </tr>\n",
       "    <tr>\n",
       "      <th>1</th>\n",
       "      <td>8776</td>\n",
       "      <td>Grumeti</td>\n",
       "      <td>grumet</td>\n",
       "      <td>GRUMETI</td>\n",
       "      <td>grumet</td>\n",
       "      <td>-0.647745</td>\n",
       "      <td>2013-01-06T00:03:00.000Z</td>\n",
       "      <td>1.129149</td>\n",
       "      <td>1/2013</td>\n",
       "      <td>0.0</td>\n",
       "      <td>...</td>\n",
       "      <td>insufficient</td>\n",
       "      <td>rainwater harvesting</td>\n",
       "      <td>rainwater harvesting</td>\n",
       "      <td>surface</td>\n",
       "      <td>communal standpipe</td>\n",
       "      <td>communal standpipe</td>\n",
       "      <td>functional</td>\n",
       "      <td>1.202022</td>\n",
       "      <td>1.052600</td>\n",
       "      <td>False</td>\n",
       "    </tr>\n",
       "    <tr>\n",
       "      <th>2</th>\n",
       "      <td>34310</td>\n",
       "      <td>Lottery Club</td>\n",
       "      <td>lottery club</td>\n",
       "      <td>World vision</td>\n",
       "      <td>world vision</td>\n",
       "      <td>1.302939</td>\n",
       "      <td>2013-01-25T00:02:00.000Z</td>\n",
       "      <td>1.129149</td>\n",
       "      <td>1/2013</td>\n",
       "      <td>0.0</td>\n",
       "      <td>...</td>\n",
       "      <td>enough</td>\n",
       "      <td>dam</td>\n",
       "      <td>dam</td>\n",
       "      <td>surface</td>\n",
       "      <td>communal standpipe multiple</td>\n",
       "      <td>communal standpipe</td>\n",
       "      <td>functional</td>\n",
       "      <td>1.202022</td>\n",
       "      <td>1.052600</td>\n",
       "      <td>False</td>\n",
       "    </tr>\n",
       "    <tr>\n",
       "      <th>3</th>\n",
       "      <td>67743</td>\n",
       "      <td>Unicef</td>\n",
       "      <td>unicef</td>\n",
       "      <td>UNICEF</td>\n",
       "      <td>unicef</td>\n",
       "      <td>-0.647745</td>\n",
       "      <td>2013-01-28T00:01:00.000Z</td>\n",
       "      <td>1.129149</td>\n",
       "      <td>1/2013</td>\n",
       "      <td>0.0</td>\n",
       "      <td>...</td>\n",
       "      <td>dry</td>\n",
       "      <td>machine dbh</td>\n",
       "      <td>borehole</td>\n",
       "      <td>groundwater</td>\n",
       "      <td>communal standpipe multiple</td>\n",
       "      <td>communal standpipe</td>\n",
       "      <td>non functional</td>\n",
       "      <td>1.202022</td>\n",
       "      <td>1.052600</td>\n",
       "      <td>False</td>\n",
       "    </tr>\n",
       "    <tr>\n",
       "      <th>4</th>\n",
       "      <td>19728</td>\n",
       "      <td>Action In A</td>\n",
       "      <td>action in a</td>\n",
       "      <td>Artisan</td>\n",
       "      <td>atisan</td>\n",
       "      <td>-0.647745</td>\n",
       "      <td>2011-01-13T00:07:00.000Z</td>\n",
       "      <td>-0.963404</td>\n",
       "      <td>1/2011</td>\n",
       "      <td>0.0</td>\n",
       "      <td>...</td>\n",
       "      <td>seasonal</td>\n",
       "      <td>rainwater harvesting</td>\n",
       "      <td>rainwater harvesting</td>\n",
       "      <td>surface</td>\n",
       "      <td>communal standpipe</td>\n",
       "      <td>communal standpipe</td>\n",
       "      <td>functional</td>\n",
       "      <td>-0.832619</td>\n",
       "      <td>-0.471799</td>\n",
       "      <td>True</td>\n",
       "    </tr>\n",
       "  </tbody>\n",
       "</table>\n",
       "<p>5 rows × 48 columns</p>\n",
       "</div>"
      ],
      "text/plain": [
       "      id        funder funder_cleaned     installer installer_cleaned  \\\n",
       "0  69572         Roman   roman church         Roman      roman church   \n",
       "1   8776       Grumeti         grumet       GRUMETI            grumet   \n",
       "2  34310  Lottery Club   lottery club  World vision      world vision   \n",
       "3  67743        Unicef         unicef        UNICEF            unicef   \n",
       "4  19728   Action In A    action in a       Artisan            atisan   \n",
       "\n",
       "   amount_tsh                      date      Year      MY  Month  \\\n",
       "0    1.743682  2011-01-14T00:03:00.000Z -0.963404  1/2011    0.0   \n",
       "1   -0.647745  2013-01-06T00:03:00.000Z  1.129149  1/2013    0.0   \n",
       "2    1.302939  2013-01-25T00:02:00.000Z  1.129149  1/2013    0.0   \n",
       "3   -0.647745  2013-01-28T00:01:00.000Z  1.129149  1/2013    0.0   \n",
       "4   -0.647745  2011-01-13T00:07:00.000Z -0.963404  1/2011    0.0   \n",
       "\n",
       "             ...              quantity_group                source  \\\n",
       "0            ...                      enough                spring   \n",
       "1            ...                insufficient  rainwater harvesting   \n",
       "2            ...                      enough                   dam   \n",
       "3            ...                         dry           machine dbh   \n",
       "4            ...                    seasonal  rainwater harvesting   \n",
       "\n",
       "            source_type source_class              waterpoint_type  \\\n",
       "0                spring  groundwater           communal standpipe   \n",
       "1  rainwater harvesting      surface           communal standpipe   \n",
       "2                   dam      surface  communal standpipe multiple   \n",
       "3              borehole  groundwater  communal standpipe multiple   \n",
       "4  rainwater harvesting      surface           communal standpipe   \n",
       "\n",
       "  waterpoint_type_group    status_group        pr       tas  \\\n",
       "0    communal standpipe      functional -0.832619 -0.471799   \n",
       "1    communal standpipe      functional  1.202022  1.052600   \n",
       "2    communal standpipe      functional  1.202022  1.052600   \n",
       "3    communal standpipe  non functional  1.202022  1.052600   \n",
       "4    communal standpipe      functional -0.832619 -0.471799   \n",
       "\n",
       "   missing_construction_year  \n",
       "0                      False  \n",
       "1                      False  \n",
       "2                      False  \n",
       "3                      False  \n",
       "4                       True  \n",
       "\n",
       "[5 rows x 48 columns]"
      ]
     },
     "execution_count": 149,
     "metadata": {},
     "output_type": "execute_result"
    }
   ],
   "source": [
    "pt = PowerTransformer(method='yeo-johnson', standardize = True).fit(numericals(tot_data[~pd.isna(tot_data['status_group'])], ['id']))\n",
    "tot_data[numericals(tot_data, ['id']).columns] = pt.transform(numericals(tot_data, ['id']))\n",
    "tot_data.head()"
   ]
  },
  {
   "cell_type": "code",
   "execution_count": 150,
   "metadata": {},
   "outputs": [
    {
     "data": {
      "text/html": [
       "<div>\n",
       "<style scoped>\n",
       "    .dataframe tbody tr th:only-of-type {\n",
       "        vertical-align: middle;\n",
       "    }\n",
       "\n",
       "    .dataframe tbody tr th {\n",
       "        vertical-align: top;\n",
       "    }\n",
       "\n",
       "    .dataframe thead th {\n",
       "        text-align: right;\n",
       "    }\n",
       "</style>\n",
       "<table border=\"1\" class=\"dataframe\">\n",
       "  <thead>\n",
       "    <tr style=\"text-align: right;\">\n",
       "      <th></th>\n",
       "      <th>id</th>\n",
       "      <th>funder</th>\n",
       "      <th>funder_cleaned</th>\n",
       "      <th>installer</th>\n",
       "      <th>installer_cleaned</th>\n",
       "      <th>amount_tsh</th>\n",
       "      <th>date</th>\n",
       "      <th>Year</th>\n",
       "      <th>MY</th>\n",
       "      <th>Month</th>\n",
       "      <th>...</th>\n",
       "      <th>quantity_group</th>\n",
       "      <th>source</th>\n",
       "      <th>source_type</th>\n",
       "      <th>source_class</th>\n",
       "      <th>waterpoint_type</th>\n",
       "      <th>waterpoint_type_group</th>\n",
       "      <th>status_group</th>\n",
       "      <th>pr</th>\n",
       "      <th>tas</th>\n",
       "      <th>missing_construction_year</th>\n",
       "    </tr>\n",
       "  </thead>\n",
       "  <tbody>\n",
       "    <tr>\n",
       "      <th>0</th>\n",
       "      <td>69572</td>\n",
       "      <td>Roman</td>\n",
       "      <td>roman church</td>\n",
       "      <td>Roman</td>\n",
       "      <td>roman church</td>\n",
       "      <td>1.743682</td>\n",
       "      <td>2011-01-14T00:03:00.000Z</td>\n",
       "      <td>-0.963404</td>\n",
       "      <td>1/2011</td>\n",
       "      <td>0.0</td>\n",
       "      <td>...</td>\n",
       "      <td>enough</td>\n",
       "      <td>spring</td>\n",
       "      <td>spring</td>\n",
       "      <td>groundwater</td>\n",
       "      <td>communal standpipe</td>\n",
       "      <td>communal standpipe</td>\n",
       "      <td>functional</td>\n",
       "      <td>-0.832619</td>\n",
       "      <td>-0.471799</td>\n",
       "      <td>False</td>\n",
       "    </tr>\n",
       "    <tr>\n",
       "      <th>1</th>\n",
       "      <td>8776</td>\n",
       "      <td>Grumeti</td>\n",
       "      <td>grumet</td>\n",
       "      <td>GRUMETI</td>\n",
       "      <td>grumet</td>\n",
       "      <td>-0.647745</td>\n",
       "      <td>2013-01-06T00:03:00.000Z</td>\n",
       "      <td>1.129149</td>\n",
       "      <td>1/2013</td>\n",
       "      <td>0.0</td>\n",
       "      <td>...</td>\n",
       "      <td>insufficient</td>\n",
       "      <td>rainwater harvesting</td>\n",
       "      <td>rainwater harvesting</td>\n",
       "      <td>surface</td>\n",
       "      <td>communal standpipe</td>\n",
       "      <td>communal standpipe</td>\n",
       "      <td>functional</td>\n",
       "      <td>1.202022</td>\n",
       "      <td>1.052600</td>\n",
       "      <td>False</td>\n",
       "    </tr>\n",
       "    <tr>\n",
       "      <th>2</th>\n",
       "      <td>34310</td>\n",
       "      <td>Lottery Club</td>\n",
       "      <td>lottery club</td>\n",
       "      <td>World vision</td>\n",
       "      <td>world vision</td>\n",
       "      <td>1.302939</td>\n",
       "      <td>2013-01-25T00:02:00.000Z</td>\n",
       "      <td>1.129149</td>\n",
       "      <td>1/2013</td>\n",
       "      <td>0.0</td>\n",
       "      <td>...</td>\n",
       "      <td>enough</td>\n",
       "      <td>dam</td>\n",
       "      <td>dam</td>\n",
       "      <td>surface</td>\n",
       "      <td>communal standpipe multiple</td>\n",
       "      <td>communal standpipe</td>\n",
       "      <td>functional</td>\n",
       "      <td>1.202022</td>\n",
       "      <td>1.052600</td>\n",
       "      <td>False</td>\n",
       "    </tr>\n",
       "    <tr>\n",
       "      <th>3</th>\n",
       "      <td>67743</td>\n",
       "      <td>Unicef</td>\n",
       "      <td>unicef</td>\n",
       "      <td>UNICEF</td>\n",
       "      <td>unicef</td>\n",
       "      <td>-0.647745</td>\n",
       "      <td>2013-01-28T00:01:00.000Z</td>\n",
       "      <td>1.129149</td>\n",
       "      <td>1/2013</td>\n",
       "      <td>0.0</td>\n",
       "      <td>...</td>\n",
       "      <td>dry</td>\n",
       "      <td>machine dbh</td>\n",
       "      <td>borehole</td>\n",
       "      <td>groundwater</td>\n",
       "      <td>communal standpipe multiple</td>\n",
       "      <td>communal standpipe</td>\n",
       "      <td>non functional</td>\n",
       "      <td>1.202022</td>\n",
       "      <td>1.052600</td>\n",
       "      <td>False</td>\n",
       "    </tr>\n",
       "    <tr>\n",
       "      <th>4</th>\n",
       "      <td>19728</td>\n",
       "      <td>Action In A</td>\n",
       "      <td>action in a</td>\n",
       "      <td>Artisan</td>\n",
       "      <td>atisan</td>\n",
       "      <td>-0.647745</td>\n",
       "      <td>2011-01-13T00:07:00.000Z</td>\n",
       "      <td>-0.963404</td>\n",
       "      <td>1/2011</td>\n",
       "      <td>0.0</td>\n",
       "      <td>...</td>\n",
       "      <td>seasonal</td>\n",
       "      <td>rainwater harvesting</td>\n",
       "      <td>rainwater harvesting</td>\n",
       "      <td>surface</td>\n",
       "      <td>communal standpipe</td>\n",
       "      <td>communal standpipe</td>\n",
       "      <td>functional</td>\n",
       "      <td>-0.832619</td>\n",
       "      <td>-0.471799</td>\n",
       "      <td>True</td>\n",
       "    </tr>\n",
       "  </tbody>\n",
       "</table>\n",
       "<p>5 rows × 48 columns</p>\n",
       "</div>"
      ],
      "text/plain": [
       "      id        funder funder_cleaned     installer installer_cleaned  \\\n",
       "0  69572         Roman   roman church         Roman      roman church   \n",
       "1   8776       Grumeti         grumet       GRUMETI            grumet   \n",
       "2  34310  Lottery Club   lottery club  World vision      world vision   \n",
       "3  67743        Unicef         unicef        UNICEF            unicef   \n",
       "4  19728   Action In A    action in a       Artisan            atisan   \n",
       "\n",
       "   amount_tsh                      date      Year      MY  Month  \\\n",
       "0    1.743682  2011-01-14T00:03:00.000Z -0.963404  1/2011    0.0   \n",
       "1   -0.647745  2013-01-06T00:03:00.000Z  1.129149  1/2013    0.0   \n",
       "2    1.302939  2013-01-25T00:02:00.000Z  1.129149  1/2013    0.0   \n",
       "3   -0.647745  2013-01-28T00:01:00.000Z  1.129149  1/2013    0.0   \n",
       "4   -0.647745  2011-01-13T00:07:00.000Z -0.963404  1/2011    0.0   \n",
       "\n",
       "             ...              quantity_group                source  \\\n",
       "0            ...                      enough                spring   \n",
       "1            ...                insufficient  rainwater harvesting   \n",
       "2            ...                      enough                   dam   \n",
       "3            ...                         dry           machine dbh   \n",
       "4            ...                    seasonal  rainwater harvesting   \n",
       "\n",
       "            source_type source_class              waterpoint_type  \\\n",
       "0                spring  groundwater           communal standpipe   \n",
       "1  rainwater harvesting      surface           communal standpipe   \n",
       "2                   dam      surface  communal standpipe multiple   \n",
       "3              borehole  groundwater  communal standpipe multiple   \n",
       "4  rainwater harvesting      surface           communal standpipe   \n",
       "\n",
       "  waterpoint_type_group    status_group        pr       tas  \\\n",
       "0    communal standpipe      functional -0.832619 -0.471799   \n",
       "1    communal standpipe      functional  1.202022  1.052600   \n",
       "2    communal standpipe      functional  1.202022  1.052600   \n",
       "3    communal standpipe  non functional  1.202022  1.052600   \n",
       "4    communal standpipe      functional -0.832619 -0.471799   \n",
       "\n",
       "   missing_construction_year  \n",
       "0                      False  \n",
       "1                      False  \n",
       "2                      False  \n",
       "3                      False  \n",
       "4                       True  \n",
       "\n",
       "[5 rows x 48 columns]"
      ]
     },
     "execution_count": 150,
     "metadata": {},
     "output_type": "execute_result"
    }
   ],
   "source": [
    "data = tot_data[~pd.isna(tot_data['status_group'])].copy()\n",
    "\n",
    "test = tot_data[pd.isna(tot_data['status_group'])].copy()\n",
    "\n",
    "data.head()"
   ]
  },
  {
   "cell_type": "markdown",
   "metadata": {},
   "source": [
    "## Plotting the target variable"
   ]
  },
  {
   "cell_type": "code",
   "execution_count": 151,
   "metadata": {},
   "outputs": [
    {
     "data": {
      "text/plain": [
       "array(['functional', 'non functional', 'functional needs repair'],\n",
       "      dtype=object)"
      ]
     },
     "execution_count": 151,
     "metadata": {},
     "output_type": "execute_result"
    }
   ],
   "source": [
    "data['status_group'].unique()"
   ]
  },
  {
   "cell_type": "code",
   "execution_count": 152,
   "metadata": {},
   "outputs": [
    {
     "data": {
      "text/plain": [
       "<matplotlib.axes._subplots.AxesSubplot at 0x1a292c12b0>"
      ]
     },
     "execution_count": 152,
     "metadata": {},
     "output_type": "execute_result"
    },
    {
     "data": {
      "image/png": "[encoded data removed]",
      "text/plain": [
       "<Figure size 432x288 with 1 Axes>"
      ]
     },
     "metadata": {
      "needs_background": "light"
     },
     "output_type": "display_data"
    }
   ],
   "source": [
    "data['status_group'].value_counts().plot(kind='bar')"
   ]
  },
  {
   "cell_type": "markdown",
   "metadata": {},
   "source": [
    "## Explore distribution of target variable for missing values"
   ]
  },
  {
   "cell_type": "code",
   "execution_count": 153,
   "metadata": {},
   "outputs": [],
   "source": [
    "vars_with_nan = ['scheme_name', 'scheme_management', 'installer', 'funder', \n",
    "                    'public_meeting', 'public_meeting', 'subvillage']\n",
    "\n",
    "missing_vals = data[vars_with_nan]"
   ]
  },
  {
   "cell_type": "code",
   "execution_count": 154,
   "metadata": {},
   "outputs": [
    {
     "data": {
      "text/html": [
       "<div>\n",
       "<style scoped>\n",
       "    .dataframe tbody tr th:only-of-type {\n",
       "        vertical-align: middle;\n",
       "    }\n",
       "\n",
       "    .dataframe tbody tr th {\n",
       "        vertical-align: top;\n",
       "    }\n",
       "\n",
       "    .dataframe thead th {\n",
       "        text-align: right;\n",
       "    }\n",
       "</style>\n",
       "<table border=\"1\" class=\"dataframe\">\n",
       "  <thead>\n",
       "    <tr style=\"text-align: right;\">\n",
       "      <th></th>\n",
       "      <th>overall</th>\n",
       "      <th>scheme_name</th>\n",
       "      <th>scheme_management</th>\n",
       "      <th>installer</th>\n",
       "      <th>funder</th>\n",
       "      <th>public_meeting</th>\n",
       "      <th>subvillage</th>\n",
       "    </tr>\n",
       "  </thead>\n",
       "  <tbody>\n",
       "    <tr>\n",
       "      <th>functional</th>\n",
       "      <td>0.543081</td>\n",
       "      <td>0.514379</td>\n",
       "      <td>0.483105</td>\n",
       "      <td>0.547196</td>\n",
       "      <td>NaN</td>\n",
       "      <td>0.503299</td>\n",
       "      <td>0.552561</td>\n",
       "    </tr>\n",
       "    <tr>\n",
       "      <th>non functional</th>\n",
       "      <td>0.384242</td>\n",
       "      <td>0.414471</td>\n",
       "      <td>0.459376</td>\n",
       "      <td>0.332421</td>\n",
       "      <td>NaN</td>\n",
       "      <td>0.449910</td>\n",
       "      <td>0.444744</td>\n",
       "    </tr>\n",
       "    <tr>\n",
       "      <th>functional needs repair</th>\n",
       "      <td>0.072677</td>\n",
       "      <td>0.071150</td>\n",
       "      <td>0.057519</td>\n",
       "      <td>0.120383</td>\n",
       "      <td>NaN</td>\n",
       "      <td>0.046791</td>\n",
       "      <td>0.002695</td>\n",
       "    </tr>\n",
       "  </tbody>\n",
       "</table>\n",
       "</div>"
      ],
      "text/plain": [
       "                          overall  scheme_name  scheme_management  installer  \\\n",
       "functional               0.543081     0.514379           0.483105   0.547196   \n",
       "non functional           0.384242     0.414471           0.459376   0.332421   \n",
       "functional needs repair  0.072677     0.071150           0.057519   0.120383   \n",
       "\n",
       "                         funder  public_meeting  subvillage  \n",
       "functional                  NaN        0.503299    0.552561  \n",
       "non functional              NaN        0.449910    0.444744  \n",
       "functional needs repair     NaN        0.046791    0.002695  "
      ]
     },
     "execution_count": 154,
     "metadata": {},
     "output_type": "execute_result"
    }
   ],
   "source": [
    "mv = pd.DataFrame()\n",
    "    \n",
    "mv['overall'] = [len(data[data['status_group'] == 'functional'])/len(data),\n",
    "                len(data[data['status_group'] == 'non functional'])/len(data),\n",
    "                len(data[data['status_group'] == 'functional needs repair'])/len(data)]\n",
    "\n",
    "for col in ['scheme_name', 'scheme_management', 'installer', 'funder', \n",
    "                    'public_meeting', 'public_meeting', 'subvillage']:\n",
    "    mv[col] = [(data[data['status_group'] == 'functional'][col].isnull().sum())/(data[col].isnull().sum()),\n",
    "              (data[data['status_group'] == 'non functional'][col].isnull().sum())/(data[col].isnull().sum()),\n",
    "              (data[data['status_group'] == 'functional needs repair'][col].isnull().sum())/(data[col].isnull().sum())]\n",
    "\n",
    "mv = mv.rename({0: 'functional', 1: 'non functional', 2: 'functional needs repair'})\n",
    "mv"
   ]
  },
  {
   "cell_type": "markdown",
   "metadata": {},
   "source": [
    "How to read the table: Overall, 38.42% of missing values are for non-functional pumps. However, of all missing values for scheme_management, 45.93% are for non-functional pumps."
   ]
  },
  {
   "cell_type": "markdown",
   "metadata": {},
   "source": [
    "Missing values appear to contain information regarding whether a pump is funcional"
   ]
  },
  {
   "cell_type": "markdown",
   "metadata": {},
   "source": [
    "### Plots"
   ]
  },
  {
   "cell_type": "markdown",
   "metadata": {},
   "source": [
    "**Distribution of contruction year**"
   ]
  },
  {
   "cell_type": "code",
   "execution_count": 155,
   "metadata": {},
   "outputs": [
    {
     "data": {
      "text/plain": [
       "<matplotlib.axes._subplots.AxesSubplot at 0x1a4a000ba8>"
      ]
     },
     "execution_count": 155,
     "metadata": {},
     "output_type": "execute_result"
    },
    {
     "data": {
      "image/png": "[encoded data removed]",
      "text/plain": [
       "<Figure size 1008x504 with 1 Axes>"
      ]
     },
     "metadata": {
      "needs_background": "light"
     },
     "output_type": "display_data"
    }
   ],
   "source": [
    "plt.figure(figsize=(14,7))\n",
    "sns.distplot(data['construction_year'][data['construction_year']>0])"
   ]
  },
  {
   "cell_type": "markdown",
   "metadata": {},
   "source": [
    "**Distribution of target levels depending on altitude**"
   ]
  },
  {
   "cell_type": "code",
   "execution_count": 156,
   "metadata": {},
   "outputs": [
    {
     "data": {
      "image/png": "[encoded data removed]",
      "text/plain": [
       "<Figure size 1008x720 with 1 Axes>"
      ]
     },
     "metadata": {
      "needs_background": "light"
     },
     "output_type": "display_data"
    }
   ],
   "source": [
    "plt.figure(figsize=(14,10))\n",
    "\n",
    "p1=sns.kdeplot(data[['gps_height','status_group']][data.status_group == 'functional']\\\n",
    "               [data.gps_height > 0].gps_height, shade=True, color=\"g\",label='functional')\n",
    "p1=sns.kdeplot(data[['gps_height','status_group']][data.status_group == 'non functional']\\\n",
    "               [data.gps_height > 0].gps_height, shade=True, color=\"r\",label='non functional')\n",
    "p1=sns.kdeplot(data[['gps_height','status_group']][data.status_group == 'functional needs repair']\\\n",
    "               [data.gps_height > 0].gps_height, shade=True, color=\"y\",label='functional needs repair')"
   ]
  },
  {
   "cell_type": "markdown",
   "metadata": {},
   "source": [
    "**Does the distribution of functional/non functional/non functional needs repair depend on the region?**"
   ]
  },
  {
   "cell_type": "code",
   "execution_count": 157,
   "metadata": {},
   "outputs": [
    {
     "data": {
      "text/plain": [
       "<matplotlib.axes._subplots.AxesSubplot at 0x1a48ecab70>"
      ]
     },
     "execution_count": 157,
     "metadata": {},
     "output_type": "execute_result"
    },
    {
     "data": {
      "image/png": "[encoded data removed]",
      "text/plain": [
       "<Figure size 576x360 with 1 Axes>"
      ]
     },
     "metadata": {
      "needs_background": "light"
     },
     "output_type": "display_data"
    }
   ],
   "source": [
    "plt.figure(figsize=(8,5))\n",
    "((data[data.status_group=='functional'].region.value_counts().sort_index()/len(data.status_group))*100).plot(kind='bar',color='b')\n",
    "((data[data.status_group=='non functional'].region.value_counts().sort_index()/len(data.status_group))*100).plot(kind='bar',color='r',alpha=0.7, title = 'Functional by Region')"
   ]
  },
  {
   "cell_type": "markdown",
   "metadata": {},
   "source": [
    "### One Hot Encode vs Label Encode"
   ]
  },
  {
   "cell_type": "markdown",
   "metadata": {},
   "source": [
    "Define function for one hot encoding; it is used later. For the baseline, categorical variables are label-encoded in order to be able to include all of them."
   ]
  },
  {
   "cell_type": "code",
   "execution_count": 158,
   "metadata": {},
   "outputs": [
    {
     "data": {
      "text/html": [
       "<div>\n",
       "<style scoped>\n",
       "    .dataframe tbody tr th:only-of-type {\n",
       "        vertical-align: middle;\n",
       "    }\n",
       "\n",
       "    .dataframe tbody tr th {\n",
       "        vertical-align: top;\n",
       "    }\n",
       "\n",
       "    .dataframe thead th {\n",
       "        text-align: right;\n",
       "    }\n",
       "</style>\n",
       "<table border=\"1\" class=\"dataframe\">\n",
       "  <thead>\n",
       "    <tr style=\"text-align: right;\">\n",
       "      <th></th>\n",
       "      <th>id</th>\n",
       "      <th>funder</th>\n",
       "      <th>funder_cleaned</th>\n",
       "      <th>installer</th>\n",
       "      <th>installer_cleaned</th>\n",
       "      <th>amount_tsh</th>\n",
       "      <th>date</th>\n",
       "      <th>Year</th>\n",
       "      <th>MY</th>\n",
       "      <th>Month</th>\n",
       "      <th>...</th>\n",
       "      <th>quantity_group</th>\n",
       "      <th>source</th>\n",
       "      <th>source_type</th>\n",
       "      <th>source_class</th>\n",
       "      <th>waterpoint_type</th>\n",
       "      <th>waterpoint_type_group</th>\n",
       "      <th>status_group</th>\n",
       "      <th>pr</th>\n",
       "      <th>tas</th>\n",
       "      <th>missing_construction_year</th>\n",
       "    </tr>\n",
       "  </thead>\n",
       "  <tbody>\n",
       "    <tr>\n",
       "      <th>0</th>\n",
       "      <td>69572</td>\n",
       "      <td>1548</td>\n",
       "      <td>1476</td>\n",
       "      <td>1706</td>\n",
       "      <td>1379</td>\n",
       "      <td>1.743682</td>\n",
       "      <td>104</td>\n",
       "      <td>-0.963404</td>\n",
       "      <td>3</td>\n",
       "      <td>0.0</td>\n",
       "      <td>...</td>\n",
       "      <td>1</td>\n",
       "      <td>8</td>\n",
       "      <td>6</td>\n",
       "      <td>0</td>\n",
       "      <td>1</td>\n",
       "      <td>1</td>\n",
       "      <td>functional</td>\n",
       "      <td>-0.832619</td>\n",
       "      <td>-0.471799</td>\n",
       "      <td>False</td>\n",
       "    </tr>\n",
       "    <tr>\n",
       "      <th>1</th>\n",
       "      <td>8776</td>\n",
       "      <td>522</td>\n",
       "      <td>499</td>\n",
       "      <td>610</td>\n",
       "      <td>507</td>\n",
       "      <td>-0.647745</td>\n",
       "      <td>297</td>\n",
       "      <td>1.129149</td>\n",
       "      <td>5</td>\n",
       "      <td>0.0</td>\n",
       "      <td>...</td>\n",
       "      <td>2</td>\n",
       "      <td>5</td>\n",
       "      <td>3</td>\n",
       "      <td>1</td>\n",
       "      <td>1</td>\n",
       "      <td>1</td>\n",
       "      <td>functional</td>\n",
       "      <td>1.202022</td>\n",
       "      <td>1.052600</td>\n",
       "      <td>False</td>\n",
       "    </tr>\n",
       "    <tr>\n",
       "      <th>2</th>\n",
       "      <td>34310</td>\n",
       "      <td>924</td>\n",
       "      <td>877</td>\n",
       "      <td>2296</td>\n",
       "      <td>1832</td>\n",
       "      <td>1.302939</td>\n",
       "      <td>353</td>\n",
       "      <td>1.129149</td>\n",
       "      <td>5</td>\n",
       "      <td>0.0</td>\n",
       "      <td>...</td>\n",
       "      <td>1</td>\n",
       "      <td>0</td>\n",
       "      <td>1</td>\n",
       "      <td>1</td>\n",
       "      <td>2</td>\n",
       "      <td>1</td>\n",
       "      <td>functional</td>\n",
       "      <td>1.202022</td>\n",
       "      <td>1.052600</td>\n",
       "      <td>False</td>\n",
       "    </tr>\n",
       "    <tr>\n",
       "      <th>3</th>\n",
       "      <td>67743</td>\n",
       "      <td>1961</td>\n",
       "      <td>1858</td>\n",
       "      <td>2078</td>\n",
       "      <td>1704</td>\n",
       "      <td>-0.647745</td>\n",
       "      <td>361</td>\n",
       "      <td>1.129149</td>\n",
       "      <td>5</td>\n",
       "      <td>0.0</td>\n",
       "      <td>...</td>\n",
       "      <td>0</td>\n",
       "      <td>3</td>\n",
       "      <td>0</td>\n",
       "      <td>0</td>\n",
       "      <td>2</td>\n",
       "      <td>1</td>\n",
       "      <td>non functional</td>\n",
       "      <td>1.202022</td>\n",
       "      <td>1.052600</td>\n",
       "      <td>False</td>\n",
       "    </tr>\n",
       "    <tr>\n",
       "      <th>4</th>\n",
       "      <td>19728</td>\n",
       "      <td>20</td>\n",
       "      <td>18</td>\n",
       "      <td>133</td>\n",
       "      <td>103</td>\n",
       "      <td>-0.647745</td>\n",
       "      <td>100</td>\n",
       "      <td>-0.963404</td>\n",
       "      <td>3</td>\n",
       "      <td>0.0</td>\n",
       "      <td>...</td>\n",
       "      <td>3</td>\n",
       "      <td>5</td>\n",
       "      <td>3</td>\n",
       "      <td>1</td>\n",
       "      <td>1</td>\n",
       "      <td>1</td>\n",
       "      <td>functional</td>\n",
       "      <td>-0.832619</td>\n",
       "      <td>-0.471799</td>\n",
       "      <td>True</td>\n",
       "    </tr>\n",
       "  </tbody>\n",
       "</table>\n",
       "<p>5 rows × 48 columns</p>\n",
       "</div>"
      ],
      "text/plain": [
       "      id  funder  funder_cleaned  installer  installer_cleaned  amount_tsh  \\\n",
       "0  69572    1548            1476       1706               1379    1.743682   \n",
       "1   8776     522             499        610                507   -0.647745   \n",
       "2  34310     924             877       2296               1832    1.302939   \n",
       "3  67743    1961            1858       2078               1704   -0.647745   \n",
       "4  19728      20              18        133                103   -0.647745   \n",
       "\n",
       "   date      Year  MY  Month            ...              quantity_group  \\\n",
       "0   104 -0.963404   3    0.0            ...                           1   \n",
       "1   297  1.129149   5    0.0            ...                           2   \n",
       "2   353  1.129149   5    0.0            ...                           1   \n",
       "3   361  1.129149   5    0.0            ...                           0   \n",
       "4   100 -0.963404   3    0.0            ...                           3   \n",
       "\n",
       "   source  source_type  source_class  waterpoint_type  waterpoint_type_group  \\\n",
       "0       8            6             0                1                      1   \n",
       "1       5            3             1                1                      1   \n",
       "2       0            1             1                2                      1   \n",
       "3       3            0             0                2                      1   \n",
       "4       5            3             1                1                      1   \n",
       "\n",
       "     status_group        pr       tas  missing_construction_year  \n",
       "0      functional -0.832619 -0.471799                      False  \n",
       "1      functional  1.202022  1.052600                      False  \n",
       "2      functional  1.202022  1.052600                      False  \n",
       "3  non functional  1.202022  1.052600                      False  \n",
       "4      functional -0.832619 -0.471799                       True  \n",
       "\n",
       "[5 rows x 48 columns]"
      ]
     },
     "execution_count": 158,
     "metadata": {},
     "output_type": "execute_result"
    }
   ],
   "source": [
    "def one_hot_encode(df, cols):\n",
    "    initialColumns = set(df)\n",
    "    \n",
    "    for i in cols:\n",
    "        dummies = pd.get_dummies(df[i], prefix=i, drop_first = False)\n",
    "        df = pd.concat([df, dummies], axis = 1)\n",
    "        df = df.drop(i, axis = 1)\n",
    "    \n",
    "    df = convert_to_category(df, set(df) - initialColumns)\n",
    "    return df\n",
    "\n",
    "encoded = tot_data.copy()\n",
    "encoded[categoricals(tot_data, ['status_group']).columns] = categoricals(tot_data, ['status_group']).astype(str).apply(LabelEncoder().fit_transform)\n",
    "\n",
    "data = encoded[~pd.isna(encoded['status_group'])].copy()\n",
    "\n",
    "test = encoded[pd.isna(encoded['status_group'])].copy()\n",
    "\n",
    "encoded.head()"
   ]
  },
  {
   "cell_type": "markdown",
   "metadata": {},
   "source": [
    "## Baseline"
   ]
  },
  {
   "cell_type": "markdown",
   "metadata": {},
   "source": [
    "Score a baseline with logistic regression including all variables"
   ]
  },
  {
   "cell_type": "code",
   "execution_count": 159,
   "metadata": {},
   "outputs": [
    {
     "name": "stdout",
     "output_type": "stream",
     "text": [
      "Best baseline score: \n",
      "0.5481481481481482\n",
      " All scores: [0.54542214 0.54539513 0.5377622 ]\n"
     ]
    }
   ],
   "source": [
    "%load_ext autoreload\n",
    "\n",
    "%autoreload 2\n",
    "\n",
    "import functions as fct\n",
    "\n",
    "baseline_score, baseline_scores, baseline_model = fct.cv_evaluate(data, splits = 3, confusion_matrix = True)\n",
    "\n",
    "print('Best baseline score: \\n' + str(baseline_score) + '\\n All scores: ' + str(baseline_scores))"
   ]
  },
  {
   "cell_type": "code",
   "execution_count": null,
   "metadata": {},
   "outputs": [],
   "source": [
    "regr = LogisticRegression()\n",
    "regr.fit(X_train, y_train)\n",
    "y_pred = regr.predict(X_test)\n",
    "\n",
    "#Confusion Matrix\n",
    "print('confusion_matrix  - \\n',confusion_matrix(y_test,y_pred))"
   ]
  },
  {
   "cell_type": "markdown",
   "metadata": {},
   "source": [
    "## Feature Engineering"
   ]
  },
  {
   "cell_type": "markdown",
   "metadata": {},
   "source": [
    "### Add variables"
   ]
  },
  {
   "cell_type": "code",
   "execution_count": 160,
   "metadata": {},
   "outputs": [],
   "source": [
    "xtra = tot_data.copy()"
   ]
  },
  {
   "cell_type": "markdown",
   "metadata": {},
   "source": [
    "**Put together some levels**"
   ]
  },
  {
   "cell_type": "code",
   "execution_count": 161,
   "metadata": {},
   "outputs": [],
   "source": [
    "cleanup = {\"extraction_type\":{\"cemo\": 'other motorpump', \"climax\": 'other motorpump',\n",
    "                             'other - mkulima/shinyanga': 'walimi', 'other - play pump': 'walimi',\n",
    "                             'other - swn 81': 'swn', 'swn 80': 'swn',\n",
    "                             'india mark ii': 'india mark', 'india mark iii': 'india mark',\n",
    "                             'other - swn 81': 'swn', 'swn 80': 'swn'}}"
   ]
  },
  {
   "cell_type": "code",
   "execution_count": 162,
   "metadata": {},
   "outputs": [],
   "source": [
    "xtra.replace(cleanup, inplace = True)"
   ]
  },
  {
   "cell_type": "markdown",
   "metadata": {},
   "source": [
    "**Remove underrepresented levels**"
   ]
  },
  {
   "cell_type": "code",
   "execution_count": 163,
   "metadata": {},
   "outputs": [],
   "source": [
    "def drop_underrepresented(df, columns, threshold):\n",
    "    for col in columns:\n",
    "        freq = pd.value_counts(df[col])\n",
    "        mask = (freq/freq.sum()).lt(threshold)\n",
    "        colname = col + '_grouped'\n",
    "        df[colname] = np.where(df[col].isin(freq[mask].index),'Other',df[col])\n",
    "    return df"
   ]
  },
  {
   "cell_type": "markdown",
   "metadata": {},
   "source": [
    "Remove levels of installer_cleaned and funder_cleand with less than 1% representation"
   ]
  },
  {
   "cell_type": "code",
   "execution_count": 164,
   "metadata": {},
   "outputs": [],
   "source": [
    "xtra = drop_underrepresented(xtra, ['installer_cleaned', 'funder_cleaned'], 0.01)"
   ]
  },
  {
   "cell_type": "markdown",
   "metadata": {},
   "source": [
    "**Create geocraphical variables**"
   ]
  },
  {
   "cell_type": "markdown",
   "metadata": {},
   "source": [
    "Distance from (0,0)"
   ]
  },
  {
   "cell_type": "code",
   "execution_count": 165,
   "metadata": {},
   "outputs": [],
   "source": [
    "xtra['distance'] = xtra.apply(\n",
    "    lambda x: great_circle(\n",
    "        (x['latitude'], x['longitude']),\n",
    "        (0, 0)\n",
    "    ).miles,\n",
    "    axis=1)"
   ]
  },
  {
   "cell_type": "markdown",
   "metadata": {},
   "source": [
    "Geographical clusters based on KMeans"
   ]
  },
  {
   "cell_type": "code",
   "execution_count": 166,
   "metadata": {},
   "outputs": [],
   "source": [
    "X_loc=xtra.loc[:,['latitude','longitude']]\n",
    "\n",
    "id_n=300\n",
    "kmeans = KMeans(n_clusters=id_n, random_state=0).fit(X_loc)\n",
    "xtra['cluster_id'] = kmeans.labels_"
   ]
  },
  {
   "cell_type": "markdown",
   "metadata": {},
   "source": [
    "**Create Date variables**"
   ]
  },
  {
   "cell_type": "code",
   "execution_count": 167,
   "metadata": {},
   "outputs": [],
   "source": [
    "xtra['date'] = pd.to_datetime(xtra['date'], utc = True)"
   ]
  },
  {
   "cell_type": "markdown",
   "metadata": {},
   "source": [
    "\"Days\" since recoded and time since construction"
   ]
  },
  {
   "cell_type": "code",
   "execution_count": 168,
   "metadata": {},
   "outputs": [],
   "source": [
    "xtra['days_since_recorded'] = pd.to_datetime('2014-01-01', utc = True) - xtra['date']\n",
    "xtra['days_since_recorded'] = pd.to_numeric(xtra['days_since_recorded'])/100000000\n",
    "\n",
    "xtra['time_since_construction'] = 2015 - xtra['construction_year']"
   ]
  },
  {
   "cell_type": "markdown",
   "metadata": {},
   "source": [
    "**Create indicator variables**"
   ]
  },
  {
   "cell_type": "markdown",
   "metadata": {},
   "source": [
    "Dummies indicating if amount_tsh is zero or if a variable is missing"
   ]
  },
  {
   "cell_type": "code",
   "execution_count": 169,
   "metadata": {},
   "outputs": [],
   "source": [
    "xtra['amount_tsh_zero'] = ((xtra['amount_tsh'] + 1) == True).astype(int)\n",
    "\n",
    "xtra['missing_scheme_name'] = (xtra['scheme_name'].isnull() == True)\n",
    "\n",
    "xtra['missing_installer'] = (xtra['installer_cleaned'].isnull() == True)\n",
    "\n",
    "\n",
    "xtra['missing_funder'] = (xtra['funder_cleaned'].isnull() == True)\n",
    "\n",
    "xtra['missing_public_meeting'] = (xtra['public_meeting'].isnull() == True)\n",
    "\n",
    "xtra['missing_subvillage'] = (xtra['subvillage'].isnull() == True)"
   ]
  },
  {
   "cell_type": "code",
   "execution_count": 170,
   "metadata": {},
   "outputs": [
    {
     "data": {
      "text/html": [
       "<div>\n",
       "<style scoped>\n",
       "    .dataframe tbody tr th:only-of-type {\n",
       "        vertical-align: middle;\n",
       "    }\n",
       "\n",
       "    .dataframe tbody tr th {\n",
       "        vertical-align: top;\n",
       "    }\n",
       "\n",
       "    .dataframe thead th {\n",
       "        text-align: right;\n",
       "    }\n",
       "</style>\n",
       "<table border=\"1\" class=\"dataframe\">\n",
       "  <thead>\n",
       "    <tr style=\"text-align: right;\">\n",
       "      <th></th>\n",
       "      <th>id</th>\n",
       "      <th>funder</th>\n",
       "      <th>funder_cleaned</th>\n",
       "      <th>installer</th>\n",
       "      <th>installer_cleaned</th>\n",
       "      <th>amount_tsh</th>\n",
       "      <th>date</th>\n",
       "      <th>Year</th>\n",
       "      <th>MY</th>\n",
       "      <th>Month</th>\n",
       "      <th>...</th>\n",
       "      <th>distance</th>\n",
       "      <th>cluster_id</th>\n",
       "      <th>days_since_recorded</th>\n",
       "      <th>time_since_construction</th>\n",
       "      <th>amount_tsh_zero</th>\n",
       "      <th>missing_scheme_name</th>\n",
       "      <th>missing_installer</th>\n",
       "      <th>missing_funder</th>\n",
       "      <th>missing_public_meeting</th>\n",
       "      <th>missing_subvillage</th>\n",
       "    </tr>\n",
       "  </thead>\n",
       "  <tbody>\n",
       "    <tr>\n",
       "      <th>0</th>\n",
       "      <td>69572</td>\n",
       "      <td>Roman</td>\n",
       "      <td>roman church</td>\n",
       "      <td>Roman</td>\n",
       "      <td>roman church</td>\n",
       "      <td>1.743682</td>\n",
       "      <td>2011-01-14 00:03:00+00:00</td>\n",
       "      <td>-0.963404</td>\n",
       "      <td>1/2011</td>\n",
       "      <td>0.0</td>\n",
       "      <td>...</td>\n",
       "      <td>92.870653</td>\n",
       "      <td>161</td>\n",
       "      <td>935710200.0</td>\n",
       "      <td>2014.885303</td>\n",
       "      <td>0</td>\n",
       "      <td>False</td>\n",
       "      <td>False</td>\n",
       "      <td>False</td>\n",
       "      <td>False</td>\n",
       "      <td>False</td>\n",
       "    </tr>\n",
       "    <tr>\n",
       "      <th>1</th>\n",
       "      <td>8776</td>\n",
       "      <td>Grumeti</td>\n",
       "      <td>grumet</td>\n",
       "      <td>GRUMETI</td>\n",
       "      <td>grumet</td>\n",
       "      <td>-0.647745</td>\n",
       "      <td>2013-01-06 00:03:00+00:00</td>\n",
       "      <td>1.129149</td>\n",
       "      <td>1/2013</td>\n",
       "      <td>0.0</td>\n",
       "      <td>...</td>\n",
       "      <td>85.566930</td>\n",
       "      <td>230</td>\n",
       "      <td>311038200.0</td>\n",
       "      <td>2013.489572</td>\n",
       "      <td>0</td>\n",
       "      <td>True</td>\n",
       "      <td>False</td>\n",
       "      <td>False</td>\n",
       "      <td>True</td>\n",
       "      <td>False</td>\n",
       "    </tr>\n",
       "    <tr>\n",
       "      <th>2</th>\n",
       "      <td>34310</td>\n",
       "      <td>Lottery Club</td>\n",
       "      <td>lottery club</td>\n",
       "      <td>World vision</td>\n",
       "      <td>world vision</td>\n",
       "      <td>1.302939</td>\n",
       "      <td>2013-01-25 00:02:00+00:00</td>\n",
       "      <td>1.129149</td>\n",
       "      <td>1/2013</td>\n",
       "      <td>0.0</td>\n",
       "      <td>...</td>\n",
       "      <td>68.917971</td>\n",
       "      <td>39</td>\n",
       "      <td>294622800.0</td>\n",
       "      <td>2013.631382</td>\n",
       "      <td>0</td>\n",
       "      <td>False</td>\n",
       "      <td>False</td>\n",
       "      <td>False</td>\n",
       "      <td>False</td>\n",
       "      <td>False</td>\n",
       "    </tr>\n",
       "    <tr>\n",
       "      <th>3</th>\n",
       "      <td>67743</td>\n",
       "      <td>Unicef</td>\n",
       "      <td>unicef</td>\n",
       "      <td>UNICEF</td>\n",
       "      <td>unicef</td>\n",
       "      <td>-0.647745</td>\n",
       "      <td>2013-01-28 00:01:00+00:00</td>\n",
       "      <td>1.129149</td>\n",
       "      <td>1/2013</td>\n",
       "      <td>0.0</td>\n",
       "      <td>...</td>\n",
       "      <td>143.542134</td>\n",
       "      <td>151</td>\n",
       "      <td>292031400.0</td>\n",
       "      <td>2016.140615</td>\n",
       "      <td>0</td>\n",
       "      <td>True</td>\n",
       "      <td>False</td>\n",
       "      <td>False</td>\n",
       "      <td>False</td>\n",
       "      <td>False</td>\n",
       "    </tr>\n",
       "    <tr>\n",
       "      <th>4</th>\n",
       "      <td>19728</td>\n",
       "      <td>Action In A</td>\n",
       "      <td>action in a</td>\n",
       "      <td>Artisan</td>\n",
       "      <td>atisan</td>\n",
       "      <td>-0.647745</td>\n",
       "      <td>2011-01-13 00:07:00+00:00</td>\n",
       "      <td>-0.963404</td>\n",
       "      <td>1/2011</td>\n",
       "      <td>0.0</td>\n",
       "      <td>...</td>\n",
       "      <td>119.232628</td>\n",
       "      <td>140</td>\n",
       "      <td>936571800.0</td>\n",
       "      <td>2015.103557</td>\n",
       "      <td>0</td>\n",
       "      <td>True</td>\n",
       "      <td>False</td>\n",
       "      <td>False</td>\n",
       "      <td>False</td>\n",
       "      <td>False</td>\n",
       "    </tr>\n",
       "  </tbody>\n",
       "</table>\n",
       "<p>5 rows × 60 columns</p>\n",
       "</div>"
      ],
      "text/plain": [
       "      id        funder funder_cleaned     installer installer_cleaned  \\\n",
       "0  69572         Roman   roman church         Roman      roman church   \n",
       "1   8776       Grumeti         grumet       GRUMETI            grumet   \n",
       "2  34310  Lottery Club   lottery club  World vision      world vision   \n",
       "3  67743        Unicef         unicef        UNICEF            unicef   \n",
       "4  19728   Action In A    action in a       Artisan            atisan   \n",
       "\n",
       "   amount_tsh                      date      Year      MY  Month  \\\n",
       "0    1.743682 2011-01-14 00:03:00+00:00 -0.963404  1/2011    0.0   \n",
       "1   -0.647745 2013-01-06 00:03:00+00:00  1.129149  1/2013    0.0   \n",
       "2    1.302939 2013-01-25 00:02:00+00:00  1.129149  1/2013    0.0   \n",
       "3   -0.647745 2013-01-28 00:01:00+00:00  1.129149  1/2013    0.0   \n",
       "4   -0.647745 2011-01-13 00:07:00+00:00 -0.963404  1/2011    0.0   \n",
       "\n",
       "          ...            distance  cluster_id  days_since_recorded  \\\n",
       "0         ...           92.870653         161          935710200.0   \n",
       "1         ...           85.566930         230          311038200.0   \n",
       "2         ...           68.917971          39          294622800.0   \n",
       "3         ...          143.542134         151          292031400.0   \n",
       "4         ...          119.232628         140          936571800.0   \n",
       "\n",
       "  time_since_construction  amount_tsh_zero missing_scheme_name  \\\n",
       "0             2014.885303                0               False   \n",
       "1             2013.489572                0                True   \n",
       "2             2013.631382                0               False   \n",
       "3             2016.140615                0                True   \n",
       "4             2015.103557                0                True   \n",
       "\n",
       "  missing_installer missing_funder  missing_public_meeting  missing_subvillage  \n",
       "0             False          False                   False               False  \n",
       "1             False          False                    True               False  \n",
       "2             False          False                   False               False  \n",
       "3             False          False                   False               False  \n",
       "4             False          False                   False               False  \n",
       "\n",
       "[5 rows x 60 columns]"
      ]
     },
     "execution_count": 170,
     "metadata": {},
     "output_type": "execute_result"
    }
   ],
   "source": [
    "xtra.head()"
   ]
  },
  {
   "cell_type": "markdown",
   "metadata": {},
   "source": [
    "### Encode categorical variables to continuous"
   ]
  },
  {
   "cell_type": "markdown",
   "metadata": {},
   "source": [
    "Create a variable for the categorical variables indicating the % of functioning pumps for each level of the categorical variable"
   ]
  },
  {
   "cell_type": "code",
   "execution_count": 171,
   "metadata": {},
   "outputs": [],
   "source": [
    "xtra_test = xtra[pd.isna(xtra['status_group'])].copy()\n",
    "xtra_train = xtra[~pd.isna(xtra['status_group'])].copy()"
   ]
  },
  {
   "cell_type": "code",
   "execution_count": 172,
   "metadata": {},
   "outputs": [
    {
     "data": {
      "text/plain": [
       "(14850, 60)"
      ]
     },
     "execution_count": 172,
     "metadata": {},
     "output_type": "execute_result"
    }
   ],
   "source": [
    "xtra_test.shape"
   ]
  },
  {
   "cell_type": "code",
   "execution_count": 173,
   "metadata": {},
   "outputs": [],
   "source": [
    "def encode_to_continuous(df, df_test, columns, target, targetvalue):\n",
    "    for col in columns:\n",
    "        colname = col + '_success'\n",
    "        \n",
    "        df[colname] = np.where(df[target].isin([targetvalue]),1 ,0).copy()\n",
    "        df_grouped = df.groupby([col])[colname].sum()\n",
    "        df_counter = df.groupby([col]).agg('count')[colname]\n",
    "        \n",
    "        success = pd.DataFrame(df_grouped/df_counter)\n",
    "        success[col] = success.index\n",
    "        df.drop([colname], inplace = True, axis = 1)\n",
    "        \n",
    "        df = df.merge(success, on = col)\n",
    "        df_test = df_test.merge(success, on = col)\n",
    "        df_test[colname] = df_test[colname].fillna(df_test[colname].mean())\n",
    "                \n",
    "    return df, df_test"
   ]
  },
  {
   "cell_type": "markdown",
   "metadata": {},
   "source": [
    "Code is commented as the features were leading to major overfitting"
   ]
  },
  {
   "cell_type": "code",
   "execution_count": 174,
   "metadata": {},
   "outputs": [],
   "source": [
    "#xtra_train, xtra_test = encode_to_continuous(xtra_train, xtra_test, ['ward', 'lga', 'subvillage'], 'status_group', 'functional')"
   ]
  },
  {
   "cell_type": "markdown",
   "metadata": {},
   "source": [
    "**Selected columns**"
   ]
  },
  {
   "cell_type": "markdown",
   "metadata": {},
   "source": [
    "Discard columns that belong to the same thing and are hight correlated or that have to many levels"
   ]
  },
  {
   "cell_type": "code",
   "execution_count": 175,
   "metadata": {},
   "outputs": [],
   "source": [
    "selected_cols = ['amount_tsh', 'Year', 'MY', 'gps_height', 'longitude', 'latitude', 'num_private', 'basin', 'region',\n",
    "                 'district_code', 'population', 'public_meeting', 'scheme_management', 'permit',\n",
    "                 'extraction_type', 'management', 'payment', 'water_quality', 'quantity', 'source', 'source_type',\n",
    "                 'source_class', 'waterpoint_type', 'pr', 'tas', 'missing_construction_year',\n",
    "                 'installer_cleaned_grouped', 'funder_cleaned_grouped', 'distance', 'cluster_id', 'days_since_recorded',\n",
    "                 'time_since_construction', 'amount_tsh_zero', 'missing_scheme_name', 'missing_installer', 'missing_funder',\n",
    "                 'missing_public_meeting', 'missing_subvillage', 'status_group']"
   ]
  },
  {
   "cell_type": "markdown",
   "metadata": {},
   "source": [
    ", 'subvillage_success', 'lga_success', 'wpt_name_success',\n",
    "                 'ward_success', 'scheme_name_success'"
   ]
  },
  {
   "cell_type": "code",
   "execution_count": 176,
   "metadata": {},
   "outputs": [],
   "source": [
    "xtra_train_selected = xtra_train[selected_cols].copy()\n",
    "xtra_test_selected = xtra_test[selected_cols].copy()"
   ]
  },
  {
   "cell_type": "markdown",
   "metadata": {},
   "source": [
    "**Onehot Encode**"
   ]
  },
  {
   "cell_type": "code",
   "execution_count": 177,
   "metadata": {},
   "outputs": [],
   "source": [
    "xtra_train_dummyfied = one_hot_encode(xtra_train_selected, categoricals(xtra_train_selected))\n",
    "xtra_test_dummyfied = one_hot_encode(xtra_test_selected, categoricals(xtra_test_selected))"
   ]
  },
  {
   "cell_type": "code",
   "execution_count": 178,
   "metadata": {},
   "outputs": [
    {
     "data": {
      "text/html": [
       "<div>\n",
       "<style scoped>\n",
       "    .dataframe tbody tr th:only-of-type {\n",
       "        vertical-align: middle;\n",
       "    }\n",
       "\n",
       "    .dataframe tbody tr th {\n",
       "        vertical-align: top;\n",
       "    }\n",
       "\n",
       "    .dataframe thead th {\n",
       "        text-align: right;\n",
       "    }\n",
       "</style>\n",
       "<table border=\"1\" class=\"dataframe\">\n",
       "  <thead>\n",
       "    <tr style=\"text-align: right;\">\n",
       "      <th></th>\n",
       "      <th>amount_tsh</th>\n",
       "      <th>Year</th>\n",
       "      <th>gps_height</th>\n",
       "      <th>longitude</th>\n",
       "      <th>latitude</th>\n",
       "      <th>num_private</th>\n",
       "      <th>district_code</th>\n",
       "      <th>population</th>\n",
       "      <th>pr</th>\n",
       "      <th>tas</th>\n",
       "      <th>...</th>\n",
       "      <th>funder_cleaned_grouped_norad</th>\n",
       "      <th>funder_cleaned_grouped_private individual</th>\n",
       "      <th>funder_cleaned_grouped_roman church</th>\n",
       "      <th>funder_cleaned_grouped_rwssp</th>\n",
       "      <th>funder_cleaned_grouped_tasaf</th>\n",
       "      <th>funder_cleaned_grouped_tcrs</th>\n",
       "      <th>funder_cleaned_grouped_unicef</th>\n",
       "      <th>funder_cleaned_grouped_wateraid</th>\n",
       "      <th>funder_cleaned_grouped_world bank</th>\n",
       "      <th>funder_cleaned_grouped_world vision</th>\n",
       "    </tr>\n",
       "  </thead>\n",
       "  <tbody>\n",
       "    <tr>\n",
       "      <th>0</th>\n",
       "      <td>1.743682</td>\n",
       "      <td>-0.963404</td>\n",
       "      <td>0.974640</td>\n",
       "      <td>-0.017877</td>\n",
       "      <td>-1.344013</td>\n",
       "      <td>-0.113616</td>\n",
       "      <td>0.670342</td>\n",
       "      <td>0.746320</td>\n",
       "      <td>-0.832619</td>\n",
       "      <td>-0.471799</td>\n",
       "      <td>...</td>\n",
       "      <td>0</td>\n",
       "      <td>0</td>\n",
       "      <td>1</td>\n",
       "      <td>0</td>\n",
       "      <td>0</td>\n",
       "      <td>0</td>\n",
       "      <td>0</td>\n",
       "      <td>0</td>\n",
       "      <td>0</td>\n",
       "      <td>0</td>\n",
       "    </tr>\n",
       "    <tr>\n",
       "      <th>1</th>\n",
       "      <td>-0.647745</td>\n",
       "      <td>1.129149</td>\n",
       "      <td>0.981122</td>\n",
       "      <td>-0.090077</td>\n",
       "      <td>1.235144</td>\n",
       "      <td>-0.113616</td>\n",
       "      <td>-0.505520</td>\n",
       "      <td>1.058946</td>\n",
       "      <td>1.202022</td>\n",
       "      <td>1.052600</td>\n",
       "      <td>...</td>\n",
       "      <td>0</td>\n",
       "      <td>0</td>\n",
       "      <td>0</td>\n",
       "      <td>0</td>\n",
       "      <td>0</td>\n",
       "      <td>0</td>\n",
       "      <td>0</td>\n",
       "      <td>0</td>\n",
       "      <td>0</td>\n",
       "      <td>0</td>\n",
       "    </tr>\n",
       "    <tr>\n",
       "      <th>2</th>\n",
       "      <td>1.302939</td>\n",
       "      <td>1.129149</td>\n",
       "      <td>0.380148</td>\n",
       "      <td>0.808415</td>\n",
       "      <td>0.584308</td>\n",
       "      <td>-0.113616</td>\n",
       "      <td>0.410603</td>\n",
       "      <td>1.022130</td>\n",
       "      <td>1.202022</td>\n",
       "      <td>1.052600</td>\n",
       "      <td>...</td>\n",
       "      <td>0</td>\n",
       "      <td>0</td>\n",
       "      <td>0</td>\n",
       "      <td>0</td>\n",
       "      <td>0</td>\n",
       "      <td>0</td>\n",
       "      <td>0</td>\n",
       "      <td>0</td>\n",
       "      <td>0</td>\n",
       "      <td>0</td>\n",
       "    </tr>\n",
       "    <tr>\n",
       "      <th>3</th>\n",
       "      <td>-0.647745</td>\n",
       "      <td>1.129149</td>\n",
       "      <td>-0.149872</td>\n",
       "      <td>1.179788</td>\n",
       "      <td>-1.710133</td>\n",
       "      <td>-0.113616</td>\n",
       "      <td>2.287415</td>\n",
       "      <td>0.529916</td>\n",
       "      <td>1.202022</td>\n",
       "      <td>1.052600</td>\n",
       "      <td>...</td>\n",
       "      <td>0</td>\n",
       "      <td>0</td>\n",
       "      <td>0</td>\n",
       "      <td>0</td>\n",
       "      <td>0</td>\n",
       "      <td>0</td>\n",
       "      <td>1</td>\n",
       "      <td>0</td>\n",
       "      <td>0</td>\n",
       "      <td>0</td>\n",
       "    </tr>\n",
       "    <tr>\n",
       "      <th>4</th>\n",
       "      <td>-0.647745</td>\n",
       "      <td>-0.963404</td>\n",
       "      <td>-0.944170</td>\n",
       "      <td>-1.047628</td>\n",
       "      <td>1.371361</td>\n",
       "      <td>-0.113616</td>\n",
       "      <td>-1.484429</td>\n",
       "      <td>-1.077493</td>\n",
       "      <td>-0.832619</td>\n",
       "      <td>-0.471799</td>\n",
       "      <td>...</td>\n",
       "      <td>0</td>\n",
       "      <td>0</td>\n",
       "      <td>0</td>\n",
       "      <td>0</td>\n",
       "      <td>0</td>\n",
       "      <td>0</td>\n",
       "      <td>0</td>\n",
       "      <td>0</td>\n",
       "      <td>0</td>\n",
       "      <td>0</td>\n",
       "    </tr>\n",
       "  </tbody>\n",
       "</table>\n",
       "<p>5 rows × 182 columns</p>\n",
       "</div>"
      ],
      "text/plain": [
       "   amount_tsh      Year  gps_height  longitude  latitude  num_private  \\\n",
       "0    1.743682 -0.963404    0.974640  -0.017877 -1.344013    -0.113616   \n",
       "1   -0.647745  1.129149    0.981122  -0.090077  1.235144    -0.113616   \n",
       "2    1.302939  1.129149    0.380148   0.808415  0.584308    -0.113616   \n",
       "3   -0.647745  1.129149   -0.149872   1.179788 -1.710133    -0.113616   \n",
       "4   -0.647745 -0.963404   -0.944170  -1.047628  1.371361    -0.113616   \n",
       "\n",
       "   district_code  population        pr       tas  \\\n",
       "0       0.670342    0.746320 -0.832619 -0.471799   \n",
       "1      -0.505520    1.058946  1.202022  1.052600   \n",
       "2       0.410603    1.022130  1.202022  1.052600   \n",
       "3       2.287415    0.529916  1.202022  1.052600   \n",
       "4      -1.484429   -1.077493 -0.832619 -0.471799   \n",
       "\n",
       "                  ...                   funder_cleaned_grouped_norad  \\\n",
       "0                 ...                                              0   \n",
       "1                 ...                                              0   \n",
       "2                 ...                                              0   \n",
       "3                 ...                                              0   \n",
       "4                 ...                                              0   \n",
       "\n",
       "   funder_cleaned_grouped_private individual  \\\n",
       "0                                          0   \n",
       "1                                          0   \n",
       "2                                          0   \n",
       "3                                          0   \n",
       "4                                          0   \n",
       "\n",
       "   funder_cleaned_grouped_roman church  funder_cleaned_grouped_rwssp  \\\n",
       "0                                    1                             0   \n",
       "1                                    0                             0   \n",
       "2                                    0                             0   \n",
       "3                                    0                             0   \n",
       "4                                    0                             0   \n",
       "\n",
       "   funder_cleaned_grouped_tasaf  funder_cleaned_grouped_tcrs  \\\n",
       "0                             0                            0   \n",
       "1                             0                            0   \n",
       "2                             0                            0   \n",
       "3                             0                            0   \n",
       "4                             0                            0   \n",
       "\n",
       "   funder_cleaned_grouped_unicef  funder_cleaned_grouped_wateraid  \\\n",
       "0                              0                                0   \n",
       "1                              0                                0   \n",
       "2                              0                                0   \n",
       "3                              1                                0   \n",
       "4                              0                                0   \n",
       "\n",
       "   funder_cleaned_grouped_world bank  funder_cleaned_grouped_world vision  \n",
       "0                                  0                                    0  \n",
       "1                                  0                                    0  \n",
       "2                                  0                                    0  \n",
       "3                                  0                                    0  \n",
       "4                                  0                                    0  \n",
       "\n",
       "[5 rows x 182 columns]"
      ]
     },
     "execution_count": 178,
     "metadata": {},
     "output_type": "execute_result"
    }
   ],
   "source": [
    "xtra_train_dummyfied.head()"
   ]
  },
  {
   "cell_type": "markdown",
   "metadata": {},
   "source": [
    "**Select relevant variables through RFE**"
   ]
  },
  {
   "cell_type": "code",
   "execution_count": 179,
   "metadata": {},
   "outputs": [
    {
     "data": {
      "text/plain": [
       "RFE(estimator=RandomForestClassifier(bootstrap=True, class_weight=None, criterion='gini',\n",
       "            max_depth=None, max_features='auto', max_leaf_nodes=None,\n",
       "            min_impurity_decrease=0.0, min_impurity_split=None,\n",
       "            min_samples_leaf=1, min_samples_split=2,\n",
       "            min_weight_fraction_leaf=0.0, n_estimators=10, n_jobs=None,\n",
       "            oob_score=False, random_state=1, verbose=0, warm_start=False),\n",
       "  n_features_to_select=None, step=1, verbose=0)"
      ]
     },
     "execution_count": 179,
     "metadata": {},
     "output_type": "execute_result"
    }
   ],
   "source": [
    "trans = RFE(RandomForestClassifier(n_estimators = 10, random_state = 1))\n",
    "\n",
    "y_train_rfe = xtra_train_dummyfied['status_group'].copy()\n",
    "\n",
    "X_train_rfe = xtra_train_dummyfied.loc[:, xtra_train_dummyfied.columns != TARGET_VARIABLE]\n",
    "\n",
    "X_test_rfe = xtra_test_dummyfied.loc[:, xtra_test_dummyfied.columns != TARGET_VARIABLE]\n",
    "\n",
    "trans.fit(X_train_rfe, y_train_rfe)"
   ]
  },
  {
   "cell_type": "code",
   "execution_count": 180,
   "metadata": {},
   "outputs": [
    {
     "data": {
      "text/plain": [
       "(74250, 60)"
      ]
     },
     "execution_count": 180,
     "metadata": {},
     "output_type": "execute_result"
    }
   ],
   "source": [
    "xtra.shape"
   ]
  },
  {
   "cell_type": "code",
   "execution_count": 181,
   "metadata": {},
   "outputs": [
    {
     "data": {
      "text/plain": [
       "181"
      ]
     },
     "execution_count": 181,
     "metadata": {},
     "output_type": "execute_result"
    }
   ],
   "source": [
    "len(trans.support_)"
   ]
  },
  {
   "cell_type": "code",
   "execution_count": 182,
   "metadata": {},
   "outputs": [],
   "source": [
    "prev_data = data.copy()\n",
    "prev_test = test.copy()"
   ]
  },
  {
   "cell_type": "code",
   "execution_count": 183,
   "metadata": {},
   "outputs": [
    {
     "data": {
      "text/plain": [
       "(14850, 48)"
      ]
     },
     "execution_count": 183,
     "metadata": {},
     "output_type": "execute_result"
    }
   ],
   "source": [
    "prev_test.shape"
   ]
  },
  {
   "cell_type": "code",
   "execution_count": 184,
   "metadata": {},
   "outputs": [],
   "source": [
    "data = X_train_rfe.iloc[:,trans.support_].copy()\n",
    "test = X_test_rfe.iloc[:,trans.support_].copy()"
   ]
  },
  {
   "cell_type": "code",
   "execution_count": 185,
   "metadata": {},
   "outputs": [],
   "source": [
    "data['status_group'] = prev_data['status_group'].copy()"
   ]
  },
  {
   "cell_type": "code",
   "execution_count": 186,
   "metadata": {},
   "outputs": [
    {
     "data": {
      "text/plain": [
       "(59400, 91)"
      ]
     },
     "execution_count": 186,
     "metadata": {},
     "output_type": "execute_result"
    }
   ],
   "source": [
    "data.shape"
   ]
  },
  {
   "cell_type": "markdown",
   "metadata": {},
   "source": [
    "Which are the variables selected?"
   ]
  },
  {
   "cell_type": "code",
   "execution_count": 187,
   "metadata": {},
   "outputs": [
    {
     "data": {
      "text/plain": [
       "amount_tsh                                      float64\n",
       "Year                                            float64\n",
       "gps_height                                      float64\n",
       "longitude                                       float64\n",
       "latitude                                        float64\n",
       "district_code                                   float64\n",
       "population                                      float64\n",
       "pr                                              float64\n",
       "tas                                             float64\n",
       "missing_construction_year                          bool\n",
       "distance                                        float64\n",
       "cluster_id                                        int32\n",
       "days_since_recorded                             float64\n",
       "time_since_construction                         float64\n",
       "missing_scheme_name                                bool\n",
       "missing_installer                                  bool\n",
       "missing_funder                                     bool\n",
       "missing_public_meeting                             bool\n",
       "MY_1/2011                                      category\n",
       "MY_1/2013                                      category\n",
       "basin_Internal                                 category\n",
       "basin_Lake Nyasa                               category\n",
       "basin_Lake Rukwa                               category\n",
       "basin_Lake Tanganyika                          category\n",
       "basin_Lake Victoria                            category\n",
       "basin_Pangani                                  category\n",
       "basin_Rufiji                                   category\n",
       "basin_Wami / Ruvu                              category\n",
       "region_Iringa                                  category\n",
       "region_Kigoma                                  category\n",
       "region_Mwanza                                  category\n",
       "region_Shinyanga                               category\n",
       "public_meeting_False                           category\n",
       "public_meeting_True                            category\n",
       "scheme_management_VWC                          category\n",
       "scheme_management_WUG                          category\n",
       "scheme_management_Water authority              category\n",
       "permit_False                                   category\n",
       "permit_True                                    category\n",
       "extraction_type_afridev                        category\n",
       "extraction_type_gravity                        category\n",
       "extraction_type_india mark                     category\n",
       "extraction_type_ksb                            category\n",
       "extraction_type_mono                           category\n",
       "extraction_type_nira/tanira                    category\n",
       "extraction_type_other                          category\n",
       "extraction_type_submersible                    category\n",
       "extraction_type_swn                            category\n",
       "management_parastatal                          category\n",
       "management_private operator                    category\n",
       "management_vwc                                 category\n",
       "management_wug                                 category\n",
       "payment_never pay                              category\n",
       "payment_pay annually                           category\n",
       "payment_pay monthly                            category\n",
       "payment_pay per bucket                         category\n",
       "payment_pay when scheme fails                  category\n",
       "payment_unknown                                category\n",
       "water_quality_salty                            category\n",
       "water_quality_soft                             category\n",
       "water_quality_unknown                          category\n",
       "quantity_dry                                   category\n",
       "quantity_enough                                category\n",
       "quantity_insufficient                          category\n",
       "quantity_seasonal                              category\n",
       "source_machine dbh                             category\n",
       "source_rainwater harvesting                    category\n",
       "source_river                                   category\n",
       "source_shallow well                            category\n",
       "source_spring                                  category\n",
       "source_type_borehole                           category\n",
       "source_type_river/lake                         category\n",
       "source_type_shallow well                       category\n",
       "source_type_spring                             category\n",
       "source_class_groundwater                       category\n",
       "source_class_surface                           category\n",
       "waterpoint_type_communal standpipe             category\n",
       "waterpoint_type_communal standpipe multiple    category\n",
       "waterpoint_type_hand pump                      category\n",
       "waterpoint_type_other                          category\n",
       "installer_cleaned_grouped_Other                category\n",
       "installer_cleaned_grouped_dwe                  category\n",
       "installer_cleaned_grouped_government           category\n",
       "funder_cleaned_grouped_Other                   category\n",
       "funder_cleaned_grouped_danida                  category\n",
       "funder_cleaned_grouped_dwsp                    category\n",
       "funder_cleaned_grouped_government              category\n",
       "funder_cleaned_grouped_hesawa                  category\n",
       "funder_cleaned_grouped_tasaf                   category\n",
       "funder_cleaned_grouped_world bank              category\n",
       "status_group                                     object\n",
       "dtype: object"
      ]
     },
     "execution_count": 187,
     "metadata": {},
     "output_type": "execute_result"
    }
   ],
   "source": [
    "data.dtypes"
   ]
  },
  {
   "cell_type": "markdown",
   "metadata": {},
   "source": [
    "#### Perform Randomized Gridsearch on Algorithms used"
   ]
  },
  {
   "cell_type": "markdown",
   "metadata": {},
   "source": [
    "Random Forest Classifier"
   ]
  },
  {
   "cell_type": "code",
   "execution_count": 188,
   "metadata": {},
   "outputs": [],
   "source": [
    "grid_rf = {\n",
    "    'max_depth': [10, 20, 90, None],\n",
    "    'max_features': ['auto'],\n",
    "    'min_samples_leaf': [1, 2],\n",
    "    'min_samples_split': [2, 5, 20],\n",
    "    'max_leaf_nodes': [10, 20, 50, None],\n",
    "    'n_estimators': [10, 50, 100, 500, 1000]\n",
    "}\n",
    "\n",
    "rfc_grid = RandomForestClassifier(random_state = SEED)\n",
    "\n",
    "# Uncomment to run:\n",
    "#grid_holdout_score, grid_scores, grid_model = fct.cv_evaluate(data, model = rfc_grid, grid = grid_rf)\n",
    "#score = {'Model': 'RandomForest', 'Function': 'cross_evaluate','CV Score': '{:.3f} +/- {:.02}'.format(np.mean(grid_scores[grid_scores > 0.0]),np.std(grid_scores[grid_scores > 0.0])), 'Holdout Score': \"{0:.3f}\".format(grid_holdout_score), 'Difference': 0, 'Outcome': 'Final Cross Validation'}"
   ]
  },
  {
   "cell_type": "markdown",
   "metadata": {},
   "source": [
    "Results:\n",
    "\n",
    "{'Model': 'RandomForest',\n",
    " 'Function': 'cross_evaluate',\n",
    " 'CV Score': '0.726 +/- 0.021',\n",
    " 'Holdout Score': '0.811',\n",
    " 'Difference': 0,\n",
    " 'Outcome': 'Final Cross Validation'}\n",
    " \n",
    " {'n_estimators': 10,\n",
    " 'min_samples_split': 5,\n",
    " 'min_samples_leaf': 2,\n",
    " 'max_leaf_nodes': None,\n",
    " 'max_features': 'auto',\n",
    " 'max_depth': None}"
   ]
  },
  {
   "cell_type": "markdown",
   "metadata": {},
   "source": [
    "Gradient Boosting Classifier"
   ]
  },
  {
   "cell_type": "code",
   "execution_count": 189,
   "metadata": {},
   "outputs": [],
   "source": [
    "grid_gbt = {\n",
    "    'learning_rate': [0.05, 0.1, 0.3],\n",
    "    'n_estimators': [50, 100, 500],\n",
    "    'min_samples_leaf': [2, 3],\n",
    "    'min_samples_split': [2, 5, 20],\n",
    "    'max_depth': [2, 3, 5]\n",
    "}\n",
    "\n",
    "gbt_grid = GradientBoostingClassifier(random_state = SEED)\n",
    "\n",
    "# Uncomment to run\n",
    "#grid_holdout_score3, grid_scores3, grid_model3 = fct.cv_evaluate(data, model = gbt_grid, grid = grid_gbt)\n",
    "#score3 = {'Model': 'GradientBoosingClassifier', 'Function': 'cross_evaluate','CV Score': '{:.3f} +/- {:.02}'.format(np.mean(grid_scores3[grid_scores3 > 0.0]),np.std(grid_scores3[grid_scores3 > 0.0])), 'Holdout Score': \"{0:.3f}\".format(grid_holdout_score3), 'Difference': 0, 'Outcome': 'Final Cross Validation'}"
   ]
  },
  {
   "cell_type": "markdown",
   "metadata": {},
   "source": [
    "Results:\n",
    "\n",
    "{'Model': 'GradientBoostingClassifier',\n",
    " 'Function': 'cross_evaluate',\n",
    " 'CV Score': '0.757 +/- 0.026',\n",
    " 'Holdout Score': '0.800',\n",
    " 'Difference': 0,\n",
    " 'Outcome': 'Final Cross Validation'}\n",
    " \n",
    "{'n_estimators': 100,\n",
    " 'min_samples_split': 2,\n",
    " 'min_samples_leaf': 2,\n",
    " 'max_depth': 5,\n",
    " 'learning_rate': 0.3}"
   ]
  },
  {
   "cell_type": "markdown",
   "metadata": {},
   "source": [
    "## Running the pipeline"
   ]
  },
  {
   "cell_type": "code",
   "execution_count": 190,
   "metadata": {},
   "outputs": [],
   "source": [
    "MAX_ITER = 1300"
   ]
  },
  {
   "cell_type": "code",
   "execution_count": 197,
   "metadata": {},
   "outputs": [],
   "source": [
    "models = [\n",
    "#     {'name':'logistic_regression', 'model': LogisticRegression(multi_class = 'ovr', solver = 'lbfgs', max_iter = MAX_ITER)},\n",
    "#    {'name':'random_forest', 'model': RandomForestClassifier(n_estimators=50, random_state = SEED)},\n",
    "    {'name':'random_forest_tuned', 'model': RandomForestClassifier(n_estimators=50, min_samples_split=5, min_samples_leaf=2, max_leaf_nodes=None, max_features= 'auto', max_depth=None, random_state = SEED)},\n",
    "#    {'name':'gradient_boosting', 'model': GradientBoostingClassifier(n_estimators = 50, random_state = SEED)},\n",
    "    {'name':'gradient_boosting_tuned', 'model': GradientBoostingClassifier(n_estimators = 100, min_samples_split=2, min_samples_leaf=2, max_depth=5,learning_rate=0.3, random_state = SEED)}\n",
    "]\n",
    "\n",
    "transformers = [\n",
    "#     {'name':'rfe', 'transformer': RFE(LogisticRegression(multi_class = 'ovr', solver = 'lbfgs', max_iter = MAX_ITER))},\n",
    "#     {'name':'rfe', 'transformer': RFE(RandomForestRegressor(random_state = SEED))},\n",
    "#     {'name':'feature_selection', 'transformer': SelectFromModel(LogisticRegression(multi_class = 'ovr', solver = 'lbfgs', max_iter = MAX_ITER))},\n",
    "#     {'name':'feature_selection', 'transformer': SelectFromModel(RandomForestRegressor(random_state = SEED))},\n",
    "#     {'name':'binning', 'transformer': KBinsDiscretizer(n_bins=5, encode='onehot')},\n",
    "#     {'name':'binning', 'transformer': KBinsDiscretizer(n_bins=6, encode='onehot')},\n",
    "#     {'name':'polynomial', 'transformer': PolynomialFeatures(degree=2, include_bias=False)},\n",
    "#     {'name':'polynomial', 'transformer': PolynomialFeatures(degree=3, include_bias=False)},\n",
    "#     {'name':'pca', 'transformer': PCA(.90)},\n",
    "#     {'name':'pca', 'transformer': PCA(.95)},\n",
    "#     {'name':'gp', 'transformer': SymbolicTransformer(population_size=750, metric='spearman', function_set=['add', 'sub', 'mul', 'div', 'sqrt', 'log', 'abs', 'neg', 'inv', 'max', 'min', 'sin', 'cos', 'tan'],parsimony_coefficient=0.0005,max_samples=0.9,random_state=SEED)}\n",
    "]\n",
    "\n",
    "pipelines, all_scores = fct.feature_engineering_pipeline(data, models, transformers, SPLITS)"
   ]
  },
  {
   "cell_type": "code",
   "execution_count": 198,
   "metadata": {},
   "outputs": [
    {
     "data": {
      "text/html": [
       "<div>\n",
       "<style scoped>\n",
       "    .dataframe tbody tr th:only-of-type {\n",
       "        vertical-align: middle;\n",
       "    }\n",
       "\n",
       "    .dataframe tbody tr th {\n",
       "        vertical-align: top;\n",
       "    }\n",
       "\n",
       "    .dataframe thead th {\n",
       "        text-align: right;\n",
       "    }\n",
       "</style>\n",
       "<table border=\"1\" class=\"dataframe\">\n",
       "  <thead>\n",
       "    <tr style=\"text-align: right;\">\n",
       "      <th></th>\n",
       "      <th>Model</th>\n",
       "      <th>Function</th>\n",
       "      <th>CV Score</th>\n",
       "      <th>Holdout Score</th>\n",
       "      <th>Difference</th>\n",
       "      <th>Outcome</th>\n",
       "    </tr>\n",
       "  </thead>\n",
       "  <tbody>\n",
       "    <tr>\n",
       "      <th>0</th>\n",
       "      <td>random_forest_tuned</td>\n",
       "      <td>base_score</td>\n",
       "      <td>0.81 +/- 0.0039</td>\n",
       "      <td>0.817508</td>\n",
       "      <td>0</td>\n",
       "      <td>Base random_forest_tuned</td>\n",
       "    </tr>\n",
       "    <tr>\n",
       "      <th>1</th>\n",
       "      <td>gradient_boosting_tuned</td>\n",
       "      <td>base_score</td>\n",
       "      <td>0.79 +/- 0.0032</td>\n",
       "      <td>0.795174</td>\n",
       "      <td>0</td>\n",
       "      <td>Base gradient_boosting_tuned</td>\n",
       "    </tr>\n",
       "  </tbody>\n",
       "</table>\n",
       "</div>"
      ],
      "text/plain": [
       "                     Model    Function         CV Score  Holdout Score  \\\n",
       "0      random_forest_tuned  base_score  0.81 +/- 0.0039       0.817508   \n",
       "1  gradient_boosting_tuned  base_score  0.79 +/- 0.0032       0.795174   \n",
       "\n",
       "  Difference                       Outcome  \n",
       "0          0      Base random_forest_tuned  \n",
       "1          0  Base gradient_boosting_tuned  "
      ]
     },
     "execution_count": 198,
     "metadata": {},
     "output_type": "execute_result"
    }
   ],
   "source": [
    "all_scores"
   ]
  },
  {
   "cell_type": "markdown",
   "metadata": {},
   "source": [
    "### Create stacked model based on the obtained models"
   ]
  },
  {
   "cell_type": "markdown",
   "metadata": {},
   "source": [
    "The stacked model stacks the best two models from the pipeline plus a One vs Rest classifier with the best model from the pipeline inside and fits them to the train data. The results of these models are then fed into the best model from the initial baseline (as training data), and a prediction is done on the test set."
   ]
  },
  {
   "cell_type": "code",
   "execution_count": 199,
   "metadata": {},
   "outputs": [],
   "source": [
    "models = [\n",
    "    OneVsRestClassifier(pipelines[0]['pipeline']),\n",
    "    pipelines[0]['pipeline'],\n",
    "    pipelines[1]['pipeline']\n",
    "]\n",
    "\n",
    "X_train = data.loc[:, data.columns != TARGET_VARIABLE]\n",
    "y_train = data['status_group'].copy()\n",
    "le = LabelEncoder().fit(y_train)\n",
    "y_train = le.transform(y_train)\n",
    "\n",
    "X_test = test.loc[:, test.columns != TARGET_VARIABLE]\n",
    "\n",
    "\n",
    "S_train, S_test = stacking(\n",
    "    models,                   \n",
    "    X_train,\n",
    "    y_train,\n",
    "    X_test,  \n",
    "    regression=False, \n",
    "    mode='oof_pred_bag', \n",
    "    needs_proba=False,\n",
    "    save_dir=None, \n",
    "    metric=METRIC, \n",
    "    n_folds=4, \n",
    "    stratified=True,\n",
    "    shuffle=True,  \n",
    "    random_state=SEED\n",
    ")\n",
    "\n",
    "final_model = pipelines[0]['model']\n",
    "final_model.fit(S_train, y_train)\n",
    "X_test[TARGET_VARIABLE] = le.inverse_transform(final_model.predict(S_test))\n",
    "\n",
    "X_test['id'] = prev_test['id'].copy()\n",
    "\n",
    "submission_1 = submission.copy()\n",
    "submission_1 = submission_1.merge(X_test, on = 'id', how = 'left', suffixes = ('',''))"
   ]
  },
  {
   "cell_type": "code",
   "execution_count": 200,
   "metadata": {},
   "outputs": [],
   "source": [
    "submission_1[['id', 'status_group']].to_csv('predictions_final.csv', sep=',', index = False)"
   ]
  },
  {
   "cell_type": "code",
   "execution_count": null,
   "metadata": {},
   "outputs": [],
   "source": []
  }
 ],
 "metadata": {
  "kernelspec": {
   "display_name": "Python 3",
   "language": "python",
   "name": "python3"
  },
  "language_info": {
   "codemirror_mode": {
    "name": "ipython",
    "version": 3
   },
   "file_extension": ".py",
   "mimetype": "text/x-python",
   "name": "python",
   "nbconvert_exporter": "python",
   "pygments_lexer": "ipython3",
   "version": "3.7.2"
  }
 },
 "nbformat": 4,
 "nbformat_minor": 2
}
